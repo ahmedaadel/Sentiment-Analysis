{
  "cells": [
    {
      "cell_type": "code",
      "source": [
        "!wget https://downloads.cs.stanford.edu/nlp/data/glove.6B.zip\n"
      ],
      "metadata": {
        "colab": {
          "base_uri": "https://localhost:8080/"
        },
        "id": "0Vn1WAiOKGB-",
        "outputId": "0a2cee45-26c1-43d5-cfe4-4d8a91a491f4"
      },
      "execution_count": 1,
      "outputs": [
        {
          "output_type": "stream",
          "name": "stdout",
          "text": [
            "--2023-05-15 09:57:26--  https://downloads.cs.stanford.edu/nlp/data/glove.6B.zip\n",
            "Resolving downloads.cs.stanford.edu (downloads.cs.stanford.edu)... 171.64.64.22\n",
            "Connecting to downloads.cs.stanford.edu (downloads.cs.stanford.edu)|171.64.64.22|:443... connected.\n",
            "HTTP request sent, awaiting response... 200 OK\n",
            "Length: 862182613 (822M) [application/zip]\n",
            "Saving to: ‘glove.6B.zip’\n",
            "\n",
            "glove.6B.zip        100%[===================>] 822.24M  5.11MB/s    in 2m 40s  \n",
            "\n",
            "2023-05-15 10:00:06 (5.14 MB/s) - ‘glove.6B.zip’ saved [862182613/862182613]\n",
            "\n"
          ]
        }
      ],
      "id": "0Vn1WAiOKGB-"
    },
    {
      "cell_type": "code",
      "source": [
        "!unzip -u glove.6B.zip"
      ],
      "metadata": {
        "colab": {
          "base_uri": "https://localhost:8080/"
        },
        "id": "m0vrc57_L6eB",
        "outputId": "a1aa0c42-5406-46b0-ddc3-844f11f2637d"
      },
      "execution_count": 2,
      "outputs": [
        {
          "output_type": "stream",
          "name": "stdout",
          "text": [
            "Archive:  glove.6B.zip\n",
            "  inflating: glove.6B.50d.txt        \n",
            "  inflating: glove.6B.100d.txt       \n",
            "  inflating: glove.6B.200d.txt       \n",
            "  inflating: glove.6B.300d.txt       \n"
          ]
        }
      ],
      "id": "m0vrc57_L6eB"
    },
    {
      "cell_type": "code",
      "execution_count": 8,
      "id": "08ab77d5",
      "metadata": {
        "id": "08ab77d5"
      },
      "outputs": [],
      "source": [
        "import pandas as pd\n",
        "import re\n",
        "\n",
        "dataset = pd.read_csv('file.csv')\n",
        "\n",
        "#first step is to clean dataset to remove the unwanted characater like _ , etc..\n",
        "\n",
        "# Clean the text in all columns\n",
        "for column in dataset.columns:\n",
        "    dataset[column] = dataset[column].apply(lambda x: re.sub(r\"[^a-zA-Z0-9]\", \" \", str(x)))\n",
        "\n",
        "# Save the cleaned DataFrame back to a CSV file\n",
        "dataset.to_csv('cleaned_file.csv', index=False)\n"
      ]
    },
    {
      "cell_type": "code",
      "execution_count": 9,
      "id": "c3abc550",
      "metadata": {
        "colab": {
          "base_uri": "https://localhost:8080/"
        },
        "id": "c3abc550",
        "outputId": "b239577e-78b4-4a6f-cb25-7133ad8856d4"
      },
      "outputs": [
        {
          "output_type": "stream",
          "name": "stderr",
          "text": [
            "[nltk_data] Downloading package punkt to /root/nltk_data...\n",
            "[nltk_data]   Unzipping tokenizers/punkt.zip.\n",
            "[nltk_data] Downloading package wordnet to /root/nltk_data...\n",
            "[nltk_data] Downloading package omw-1.4 to /root/nltk_data...\n"
          ]
        }
      ],
      "source": [
        "import nltk\n",
        "from nltk.stem import WordNetLemmatizer\n",
        "from nltk.tokenize import word_tokenize\n",
        "\n",
        "nltk.download('punkt')\n",
        "nltk.download('wordnet')\n",
        "nltk.download('omw-1.4')\n",
        "\n",
        "#second step is to lemmatize the dataset to split into words \n",
        "\n",
        "lemmatizer = WordNetLemmatizer()             \n",
        "\n",
        "for column in dataset.columns:\n",
        "    dataset[column] = dataset[column].apply(lambda x: [lemmatizer.lemmatize(word) for word in word_tokenize(x)])\n"
      ]
    },
    {
      "cell_type": "code",
      "execution_count": 10,
      "id": "e09e1b19",
      "metadata": {
        "id": "e09e1b19"
      },
      "outputs": [],
      "source": [
        "import os\n",
        "import sys\n",
        "import numpy as np\n",
        "from keras.preprocessing.text import Tokenizer\n",
        "import tensorflow\n",
        "from tensorflow.keras.preprocessing.sequence import pad_sequences\n",
        "from keras.utils import to_categorical\n",
        "from keras.layers import Embedding\n",
        "from keras.layers import Dense, Input, GlobalMaxPooling1D\n",
        "from keras.layers import Conv1D, MaxPooling1D, Embedding, Flatten\n",
        "from keras.models import Model"
      ]
    },
    {
      "cell_type": "code",
      "execution_count": 11,
      "id": "6bdbadb9",
      "metadata": {
        "colab": {
          "base_uri": "https://localhost:8080/",
          "height": 472
        },
        "id": "6bdbadb9",
        "outputId": "9aaa68c2-2e08-4fdb-dcef-d7db9be42656"
      },
      "outputs": [
        {
          "output_type": "display_data",
          "data": {
            "text/plain": [
              "<Figure size 640x480 with 1 Axes>"
            ],
            "image/png": "[encoded data removed]"
          },
          "metadata": {}
        }
      ],
      "source": [
        "\n",
        "# analyze the distribution of tweet lengths\n",
        "import matplotlib.pyplot as plt\n",
        "\n",
        "tweet_lengths = dataset['tweets'].apply(len)\n",
        "\n",
        "# Plot a histogram of tweet lengths\n",
        "plt.hist(tweet_lengths, bins=30)\n",
        "plt.xlabel('Tweet Length')\n",
        "plt.ylabel('Frequency')\n",
        "plt.title('Distribution of Tweet Lengths')\n",
        "plt.show()\n"
      ]
    },
    {
      "cell_type": "code",
      "execution_count": 12,
      "id": "d462a67a",
      "metadata": {
        "id": "d462a67a"
      },
      "outputs": [],
      "source": [
        "MAX_SEQUENCE_LENGTH = 70 # padding length of each tweet (to be updated )\n",
        "MAX_NUM_WORDS = 20000       # take a  first  MAX_NUM_WORDS of tokenized words  (to be updated )\n",
        "\n",
        "tweets = dataset['tweets'].values\n",
        "labels = dataset['labels'].values\n",
        "\n",
        "tokenizer = Tokenizer(num_words=MAX_NUM_WORDS)\n",
        "tokenizer.fit_on_texts(tweets)\n"
      ]
    },
    {
      "cell_type": "code",
      "execution_count": 13,
      "id": "d0e12faa",
      "metadata": {
        "id": "d0e12faa"
      },
      "outputs": [],
      "source": [
        "#converts a list of texts into sequences of integers. unique word assigned a unique integer index.\n",
        "index_sequences = tokenizer.texts_to_sequences(tweets)\n"
      ]
    },
    {
      "cell_type": "code",
      "execution_count": 14,
      "id": "776d654a",
      "metadata": {
        "colab": {
          "base_uri": "https://localhost:8080/"
        },
        "id": "776d654a",
        "outputId": "c59714c6-6563-4b55-9ad0-3ee567fd795b"
      },
      "outputs": [
        {
          "output_type": "stream",
          "name": "stdout",
          "text": [
            "Shape of samples: (219294, 70)\n",
            "[   0    0    0    0    0    0    0    0    0    0    0    0    0    0\n",
            "    0    0    0    0    0    0    0    0    0    0    0    0    0    0\n",
            "    0    0    0    0    0    0    0    0    0    0    0    0    0    0\n",
            " 5200    7  477   20    1   95   46  103 2756   15 2917   11   61  688\n",
            "  242   10 1864    7  212    4    2    3    4    2    3    4    2    3]\n"
          ]
        }
      ],
      "source": [
        "word_index_dictionary = tokenizer.word_index # the dictionary\n",
        "\n",
        "#only top MAX_SEQUENCE_LENGTH  will be used to generate the sequences \n",
        "data = pad_sequences(index_sequences, maxlen=MAX_SEQUENCE_LENGTH)\n",
        "\n",
        "print('Shape of samples:', data.shape)\n",
        "print(data[3])"
      ]
    },
    {
      "cell_type": "code",
      "execution_count": 15,
      "id": "d81ccc95",
      "metadata": {
        "colab": {
          "base_uri": "https://localhost:8080/"
        },
        "id": "d81ccc95",
        "outputId": "f2a18be0-cb5b-4766-a6ea-323f3b88421a"
      },
      "outputs": [
        {
          "output_type": "stream",
          "name": "stdout",
          "text": [
            "[2 1 2 ... 0 0 2]\n"
          ]
        },
        {
          "output_type": "stream",
          "name": "stderr",
          "text": [
            "/usr/local/lib/python3.10/dist-packages/sklearn/preprocessing/_label.py:116: DataConversionWarning: A column-vector y was passed when a 1d array was expected. Please change the shape of y to (n_samples, ), for example using ravel().\n",
            "  y = column_or_1d(y, warn=True)\n"
          ]
        }
      ],
      "source": [
        "from sklearn.preprocessing import LabelEncoder\n",
        "\n",
        "labels = dataset['labels'].tolist()\n",
        "label_encoder = LabelEncoder()\n",
        "encoded_labels = label_encoder.fit_transform(labels)\n",
        "\n",
        "# Print the encoded labels\n",
        "print(encoded_labels)\n",
        "\n",
        "\n",
        "# bad 0\n",
        "# good 1 \n",
        "# neutral 2 "
      ]
    },
    {
      "cell_type": "code",
      "execution_count": 16,
      "id": "8e7ad193",
      "metadata": {
        "colab": {
          "base_uri": "https://localhost:8080/"
        },
        "id": "8e7ad193",
        "outputId": "d2c06cc7-b04a-4f4f-ed7f-3e28c4b85c23"
      },
      "outputs": [
        {
          "output_type": "stream",
          "name": "stdout",
          "text": [
            "Shape of data tensor: (219294, 70)\n",
            "Shape of label tensor: (219294, 3)\n",
            "Sample label:\n",
            " [1. 0. 0.]\n"
          ]
        }
      ],
      "source": [
        "labels_matrix = to_categorical(np.asarray(encoded_labels))\n",
        "print('Shape of data tensor:', data.shape)\n",
        "print('Shape of label tensor:', labels_matrix.shape)\n",
        "print('Sample label:\\n',labels_matrix[4])"
      ]
    },
    {
      "cell_type": "code",
      "execution_count": 17,
      "id": "f548c34f",
      "metadata": {
        "colab": {
          "base_uri": "https://localhost:8080/"
        },
        "id": "f548c34f",
        "outputId": "cff8c8e9-b398-48e6-d27f-6f797ac310bb"
      },
      "outputs": [
        {
          "output_type": "stream",
          "name": "stdout",
          "text": [
            "Shape of training data:  (175436, 70)\n",
            "Shape of testing data:  (43858, 70)\n"
          ]
        }
      ],
      "source": [
        "Test_SPLIT = 0.2\n",
        "indices = np.arange(data.shape[0])\n",
        "\n",
        "np.random.shuffle(indices)\n",
        "data_shuffled = data[indices]\n",
        "labels_shuffled = labels_matrix[indices]\n",
        "nb_validation_samples = int(Test_SPLIT * data_shuffled.shape[0])\n",
        "x_train = data_shuffled[:-nb_validation_samples]\n",
        "y_train = labels_shuffled[:-nb_validation_samples]\n",
        "x_val = data_shuffled[-nb_validation_samples:]\n",
        "y_val = labels_shuffled[-nb_validation_samples:]\n",
        "print('Shape of training data: ',x_train.shape)\n",
        "print('Shape of testing data: ',x_val.shape)\n"
      ]
    },
    {
      "cell_type": "code",
      "execution_count": 18,
      "id": "1bdc7881",
      "metadata": {
        "colab": {
          "base_uri": "https://localhost:8080/"
        },
        "id": "1bdc7881",
        "outputId": "99211099-4b93-4146-91bb-bb6053468ef7"
      },
      "outputs": [
        {
          "output_type": "stream",
          "name": "stdout",
          "text": [
            "Found 400000 word vectors.\n"
          ]
        }
      ],
      "source": [
        "EMBEDDING_DIM = 200\n",
        "\n",
        "embeddings_index = {}\n",
        "\n",
        "# number of a glove dimensions to be changed \n",
        "with open('glove.6B.200d.txt', encoding='utf-8') as f:\n",
        "    for line in f:\n",
        "        values = line.split()\n",
        "        word = values[0]\n",
        "        coefs = np.asarray(values[1:], dtype='float32')\n",
        "        embeddings_index[word] = coefs\n",
        "         \n",
        "print('Found %s word vectors.' % len(embeddings_index))\n"
      ]
    },
    {
      "cell_type": "code",
      "execution_count": 19,
      "id": "6b7f6fce",
      "metadata": {
        "colab": {
          "base_uri": "https://localhost:8080/"
        },
        "id": "6b7f6fce",
        "outputId": "1b0df865-2755-4606-9cfb-4f9f53de621e"
      },
      "outputs": [
        {
          "output_type": "stream",
          "name": "stdout",
          "text": [
            "Shape of Embedding Matrix:  (255624, 200)\n"
          ]
        }
      ],
      "source": [
        "#initialize embedding_matrix with zeros \n",
        "embedding_matrix = np.zeros((len(word_index_dictionary) + 1, EMBEDDING_DIM))\n",
        "\n",
        "for word, i in word_index_dictionary.items():\n",
        "    embedding_vector = embeddings_index.get(word) # if the word is not in this dict. it will remain zeros\n",
        "    if embedding_vector is not None:\n",
        "        embedding_matrix[i] = embedding_vector\n",
        "\n",
        "print ('Shape of Embedding Matrix: ',embedding_matrix.shape)\n",
        "\n"
      ]
    },
    {
      "cell_type": "code",
      "execution_count": 20,
      "id": "4ccc08e5",
      "metadata": {
        "colab": {
          "base_uri": "https://localhost:8080/"
        },
        "id": "4ccc08e5",
        "outputId": "b7249c80-5368-45a1-b28a-013e571c9257"
      },
      "outputs": [
        {
          "output_type": "execute_result",
          "data": {
            "text/plain": [
              "array([ 2.68049985e-01,  3.60320002e-01, -3.31999987e-01, -5.46419978e-01,\n",
              "       -5.04509985e-01, -1.34610003e-02, -8.04319978e-01, -2.42139995e-01,\n",
              "        5.37360013e-01,  7.75810003e-01, -3.25540006e-01,  4.83000010e-01,\n",
              "        8.42649996e-01,  3.77799988e-01, -1.47670001e-01,  5.31920016e-01,\n",
              "       -7.05179989e-01,  4.40369993e-01,  7.50349998e-01, -1.81710005e-01,\n",
              "        7.01390028e-01,  2.93829989e+00,  4.56119999e-02, -2.11759999e-01,\n",
              "        1.99469998e-01, -4.81750011e-01, -2.58150011e-01,  4.62000012e-01,\n",
              "       -5.68410009e-03, -3.05629998e-01, -5.75410008e-01, -1.95269994e-02,\n",
              "       -1.37510002e-01, -5.94500005e-01, -3.82160008e-01, -1.35409996e-01,\n",
              "       -6.64439976e-01, -2.30279997e-01, -5.54660000e-02,  3.84209991e-01,\n",
              "       -1.68880001e-01,  5.14619984e-02, -2.82929987e-01,  4.50760007e-01,\n",
              "       -3.64639997e-01,  3.61009985e-01,  1.09350002e+00, -1.19470000e-01,\n",
              "        4.97290008e-02,  4.87650000e-02,  4.89439994e-01, -3.31379997e-04,\n",
              "        1.63650006e-01,  4.97429997e-01,  3.38140011e-01,  1.55699998e-02,\n",
              "        2.57620007e-01, -5.84829986e-01, -5.58210015e-01, -2.90919989e-01,\n",
              "        2.36110002e-01, -2.89510012e-01, -3.19189996e-01,  6.57050014e-02,\n",
              "       -3.16020012e-01, -1.20540000e-01, -7.79420018e-01,  6.01360023e-01,\n",
              "        4.41599995e-01, -2.79460009e-02,  7.38210022e-01, -3.13180000e-01,\n",
              "       -5.37369996e-02, -2.69190013e-01, -5.64580023e-01, -6.51639998e-01,\n",
              "       -1.22979999e+00, -5.04299998e-02, -7.27490008e-01,  8.54260027e-02,\n",
              "       -1.48110002e-01, -1.50800005e-01, -4.52129990e-01,  3.42240006e-01,\n",
              "        9.94210020e-02, -3.88249993e-01, -2.63870001e-01, -2.59369999e-01,\n",
              "       -4.59549986e-02, -1.55180001e+00,  2.77009994e-01, -5.01550019e-01,\n",
              "        6.38209999e-01, -2.17989996e-01, -1.54589996e-01,  2.04699993e-01,\n",
              "        3.76069993e-01,  1.38300002e-01, -5.91139972e-01, -2.00360000e-01,\n",
              "       -1.76299997e-02, -2.97149986e-01,  1.23229995e-02, -1.14699997e-01,\n",
              "        8.28369975e-01,  1.02210000e-01, -2.10229993e-01,  1.42149997e+00,\n",
              "       -5.71179986e-01,  3.46960008e-01,  1.07500002e-01,  2.00360000e-01,\n",
              "        1.17810003e-01, -1.69389993e-01, -6.63350001e-02, -9.45720002e-02,\n",
              "       -2.12430000e-01, -6.39820024e-02, -3.07729989e-01,  1.41200006e-01,\n",
              "        5.51689982e-01,  1.43429995e-01,  7.47839987e-01, -3.12530011e-01,\n",
              "       -1.06100000e-01, -3.33609998e-01,  2.88800001e-02, -4.14800011e-02,\n",
              "        5.88970006e-01, -8.49280000e-01, -3.66340011e-01,  4.09540012e-02,\n",
              "        8.35779980e-02,  2.01590002e-01, -3.16280007e-01,  3.28370005e-01,\n",
              "        7.85449967e-02,  6.87030032e-02, -3.25590014e-01, -5.82490027e-01,\n",
              "       -2.06880003e-01, -4.99810010e-01, -9.86900032e-02, -5.58409989e-01,\n",
              "        2.09549999e+00,  6.18110001e-01,  2.38289997e-01, -5.24049997e-01,\n",
              "       -1.33100003e-01, -9.64390021e-03,  6.36680007e-01,  9.23280001e-01,\n",
              "       -7.36540020e-01,  2.08920002e-01,  6.49370030e-02, -1.69340000e-01,\n",
              "       -6.12820014e-02, -1.36340007e-01,  1.58409998e-01,  5.00259995e-01,\n",
              "       -2.76199996e-01,  2.25319996e-01,  8.67300034e-02, -5.69350012e-02,\n",
              "       -4.54129994e-01,  1.29810005e-01, -1.70200001e-02,  4.63539988e-01,\n",
              "       -4.22109991e-01, -7.23220035e-02, -6.18869998e-02, -4.01430011e-01,\n",
              "        6.61369979e-01, -4.62119989e-02,  2.77990013e-01,  1.34350002e-01,\n",
              "       -7.72889972e-01, -2.10179999e-01,  1.01999998e+00,  4.44950014e-01,\n",
              "        1.13119996e+00, -1.75799996e-01, -6.75769985e-01,  2.86089987e-01,\n",
              "       -6.07699990e-01, -6.54990017e-01,  3.86339985e-02,  4.82879996e-01,\n",
              "        3.57320011e-01,  2.42060006e-01, -1.82469994e-01, -2.78030008e-01,\n",
              "       -6.02810010e-02, -6.66019991e-02, -5.55579998e-02, -1.98290005e-01,\n",
              "        5.36319971e-01,  1.77689999e-01,  2.23619998e-01,  1.42409997e-02])"
            ]
          },
          "metadata": {},
          "execution_count": 20
        }
      ],
      "source": [
        "embedding_matrix[12]"
      ]
    },
    {
      "cell_type": "code",
      "execution_count": 21,
      "id": "cd4af3cf",
      "metadata": {
        "id": "cd4af3cf"
      },
      "outputs": [],
      "source": [
        "\n",
        "embedding_layer = Embedding(len(word_index_dictionary) + 1, #vocab size\n",
        "EMBEDDING_DIM, #embedding vector size\n",
        "weights=[embedding_matrix], #weights matrix\n",
        "input_length= MAX_SEQUENCE_LENGTH, trainable=False)#padded sequence length\n",
        "                          "
      ]
    },
    {
      "cell_type": "code",
      "execution_count": 22,
      "id": "f9dd8f34",
      "metadata": {
        "id": "f9dd8f34"
      },
      "outputs": [],
      "source": [
        "from keras.layers import LSTM\n",
        "\n",
        "sequence_input = Input(shape=(MAX_SEQUENCE_LENGTH,), dtype='int32')\n",
        "embedded_sequences = embedding_layer(sequence_input)\n",
        "x = LSTM(256, return_sequences=True)(embedded_sequences)\n",
        "x = LSTM(256)(x)\n",
        "x = Dense(128, activation='relu')(x)\n",
        "preds = Dense(3, activation='softmax')(x)"
      ]
    },
    {
      "cell_type": "code",
      "execution_count": 23,
      "id": "46290e4a",
      "metadata": {
        "scrolled": false,
        "colab": {
          "base_uri": "https://localhost:8080/"
        },
        "id": "46290e4a",
        "outputId": "e0066938-72c5-4098-ca66-4bf247f62e5b"
      },
      "outputs": [
        {
          "output_type": "stream",
          "name": "stdout",
          "text": [
            "Epoch 1/5\n",
            "1371/1371 [==============================] - 1478s 1s/step - loss: 0.5776 - accuracy: 0.7566 - val_loss: 0.4017 - val_accuracy: 0.8476\n",
            "Epoch 2/5\n",
            "1371/1371 [==============================] - 1460s 1s/step - loss: 0.3416 - accuracy: 0.8730 - val_loss: 0.2997 - val_accuracy: 0.8915\n",
            "Epoch 3/5\n",
            "1371/1371 [==============================] - 1455s 1s/step - loss: 0.2628 - accuracy: 0.9042 - val_loss: 0.2705 - val_accuracy: 0.9018\n",
            "Epoch 4/5\n",
            "1371/1371 [==============================] - 1453s 1s/step - loss: 0.2169 - accuracy: 0.9223 - val_loss: 0.2389 - val_accuracy: 0.9152\n",
            "Epoch 5/5\n",
            "1371/1371 [==============================] - 1423s 1s/step - loss: 0.1843 - accuracy: 0.9352 - val_loss: 0.2364 - val_accuracy: 0.9181\n"
          ]
        }
      ],
      "source": [
        "from keras.models import Model\n",
        "from keras.optimizers import Adam\n",
        "\n",
        "# Compile the model\n",
        "model = Model(inputs=sequence_input, outputs=preds)\n",
        "model.compile(loss='categorical_crossentropy', optimizer=Adam(), metrics=['accuracy'])\n",
        "\n",
        "# Train the model\n",
        "history = model.fit(x_train , y_train, validation_data=(x_val, y_val), epochs=5, batch_size=128)\n"
      ]
    },
    {
      "cell_type": "code",
      "execution_count": 24,
      "id": "36c2523b",
      "metadata": {
        "colab": {
          "base_uri": "https://localhost:8080/"
        },
        "id": "36c2523b",
        "outputId": "48b1a8be-dc66-4381-a135-f40991ac9f54"
      },
      "outputs": [
        {
          "output_type": "stream",
          "name": "stdout",
          "text": [
            "1371/1371 [==============================] - 150s 110ms/step - loss: 0.2364 - accuracy: 0.9181\n",
            "Test Loss: 0.23643963038921356\n",
            "Test Accuracy: 0.9180993437767029\n"
          ]
        }
      ],
      "source": [
        "\n",
        "# Evaluate the model\n",
        "loss, accuracy = model.evaluate(x_val, y_val, batch_size=32)\n",
        "print(\"Test Loss:\", loss)\n",
        "print(\"Test Accuracy:\", accuracy)\n"
      ]
    },
    {
      "cell_type": "code",
      "execution_count": 25,
      "id": "b1c0bf8d",
      "metadata": {
        "id": "b1c0bf8d"
      },
      "outputs": [],
      "source": [
        "model.save('pretrained_lstm_model.h5')\n"
      ]
    },
    {
      "cell_type": "code",
      "source": [],
      "metadata": {
        "id": "did1PWBRW5JX"
      },
      "id": "did1PWBRW5JX",
      "execution_count": null,
      "outputs": []
    },
    {
      "cell_type": "code",
      "execution_count": 26,
      "id": "27804aab",
      "metadata": {
        "colab": {
          "base_uri": "https://localhost:8080/"
        },
        "id": "27804aab",
        "outputId": "a936863f-8b24-4fb8-ad81-a0641eb53953"
      },
      "outputs": [
        {
          "output_type": "stream",
          "name": "stdout",
          "text": [
            "Enter your text: its very poor accuracy \n",
            "1/1 [==============================] - 1s 640ms/step\n",
            "Result: bad\n"
          ]
        }
      ],
      "source": [
        "import re\n",
        "import nltk\n",
        "from nltk.stem import WordNetLemmatizer\n",
        "from nltk.tokenize import word_tokenize\n",
        "from keras.models import load_model\n",
        "\n",
        "model = load_model('pretrained_lstm_model.h5')\n",
        "\n",
        "def preprocess_input(input_text):\n",
        "    lemmatizer = WordNetLemmatizer()\n",
        "    cleaned_text = re.sub(r\"[^a-zA-Z0-9]\", \" \", input_text)\n",
        "    tokenized_text = word_tokenize(cleaned_text)\n",
        "    lemmatized_text = [lemmatizer.lemmatize(word) for word in tokenized_text]\n",
        "    return lemmatized_text\n",
        "\n",
        "def prepare_input(input_text, tokenizer, max_sequence_length):\n",
        "    input_sequence = tokenizer.texts_to_sequences([input_text])\n",
        "    padded_sequence = pad_sequences(input_sequence, maxlen=max_sequence_length)\n",
        "    return padded_sequence\n",
        "\n",
        "def predict_sentiment(input_text, model, tokenizer, max_sequence_length):\n",
        "    preprocessed_text = preprocess_input(input_text)\n",
        "    input_data = prepare_input(preprocessed_text, tokenizer, max_sequence_length)\n",
        "    prediction = model.predict(input_data)[0]\n",
        "    label_mapping = {0: 'bad', 1: 'good', 2: 'neutral'}\n",
        "    predicted_label = label_mapping[np.argmax(prediction)]\n",
        "    return predicted_label\n",
        "\n",
        "user_input = input(\"Enter your text: \")\n",
        "\n",
        "# Get prediction\n",
        "prediction = predict_sentiment(user_input, model, tokenizer, MAX_SEQUENCE_LENGTH)\n",
        "\n",
        "# Print the prediction\n",
        "print(\"Result:\", prediction)"
      ]
    },
    {
      "cell_type": "code",
      "source": [
        "user_input = input(\"Enter your text: \")\n",
        "# Get prediction\n",
        "prediction = predict_sentiment(user_input, model, tokenizer, MAX_SEQUENCE_LENGTH)\n",
        "# Print the prediction\n",
        "print(\"Result:\", prediction)"
      ],
      "metadata": {
        "colab": {
          "base_uri": "https://localhost:8080/"
        },
        "id": "2j5-QbH3XZJV",
        "outputId": "ba7eac45-66d7-4f5e-df92-ec9677873427"
      },
      "id": "2j5-QbH3XZJV",
      "execution_count": 47,
      "outputs": [
        {
          "output_type": "stream",
          "name": "stdout",
          "text": [
            "Enter your text: in the case of human , humans seem to be creative creatures\n",
            "1/1 [==============================] - 0s 31ms/step\n",
            "Result: neutral\n"
          ]
        }
      ]
    },
    {
      "cell_type": "code",
      "source": [
        "user_input = input(\"Enter your text: \")\n",
        "# Get prediction\n",
        "prediction = predict_sentiment(user_input, model, tokenizer, MAX_SEQUENCE_LENGTH)\n",
        "# Print the prediction\n",
        "print(\"Result:\", prediction)"
      ],
      "metadata": {
        "colab": {
          "base_uri": "https://localhost:8080/"
        },
        "id": "qo5ZZm2HXa1J",
        "outputId": "618b0709-2f9d-44db-b59a-5d5b2f801287"
      },
      "id": "qo5ZZm2HXa1J",
      "execution_count": 48,
      "outputs": [
        {
          "output_type": "stream",
          "name": "stdout",
          "text": [
            "Enter your text: this is working in no proper way , this may lead to hard circumastances\n",
            "1/1 [==============================] - 0s 34ms/step\n",
            "Result: bad\n"
          ]
        }
      ]
    },
    {
      "cell_type": "code",
      "source": [
        "user_input = input(\"Enter your text: \")\n",
        "\n",
        "# Get prediction\n",
        "prediction = predict_sentiment(user_input, model, tokenizer, MAX_SEQUENCE_LENGTH)\n",
        "\n",
        "# Print the prediction\n",
        "print(\"Result:\", prediction)"
      ],
      "metadata": {
        "colab": {
          "base_uri": "https://localhost:8080/"
        },
        "id": "BP0V0sdsXbvj",
        "outputId": "6765e80c-c953-43a3-f5e0-d951342a7251"
      },
      "id": "BP0V0sdsXbvj",
      "execution_count": 49,
      "outputs": [
        {
          "output_type": "stream",
          "name": "stdout",
          "text": [
            "Enter your text: life is awesome\n",
            "1/1 [==============================] - 0s 34ms/step\n",
            "Result: good\n"
          ]
        }
      ]
    },
    {
      "cell_type": "code",
      "source": [
        "from keras.layers import LSTM, Dropout\n",
        "\n",
        "x = LSTM(256, return_sequences=True)(embedded_sequences)\n",
        "x = Dropout(0.5)(x)  # Add dropout regularization\n",
        "x = LSTM(256)(x)\n",
        "x = Dense(128, activation='relu')(x)\n",
        "preds = Dense(3, activation='softmax')(x)\n",
        "\n",
        "# Compile the model\n",
        "model = Model(inputs=sequence_input, outputs=preds)\n",
        "model.compile(loss='categorical_crossentropy', optimizer=Adam(), metrics=['accuracy'])\n",
        "\n",
        "# Train the model\n",
        "history = model.fit(x_train , y_train, validation_data=(x_val, y_val), epochs=3, batch_size=128)\n"
      ],
      "metadata": {
        "colab": {
          "base_uri": "https://localhost:8080/"
        },
        "id": "HSCaeBthXNGT",
        "outputId": "3c29c424-47df-4fe8-8da8-9e199508add9"
      },
      "id": "HSCaeBthXNGT",
      "execution_count": 29,
      "outputs": [
        {
          "output_type": "stream",
          "name": "stdout",
          "text": [
            "Epoch 1/3\n",
            "1371/1371 [==============================] - 1506s 1s/step - loss: 0.5910 - accuracy: 0.7488 - val_loss: 0.4212 - val_accuracy: 0.8393\n",
            "Epoch 2/3\n",
            "1371/1371 [==============================] - 1483s 1s/step - loss: 0.3686 - accuracy: 0.8591 - val_loss: 0.3302 - val_accuracy: 0.8783\n",
            "Epoch 3/3\n",
            "1371/1371 [==============================] - 1487s 1s/step - loss: 0.2951 - accuracy: 0.8907 - val_loss: 0.2855 - val_accuracy: 0.8987\n"
          ]
        }
      ]
    },
    {
      "cell_type": "code",
      "source": [
        "model.save('pretrained_lstm_model_dropout_layer.h5')"
      ],
      "metadata": {
        "id": "OAztSbORYssN"
      },
      "id": "OAztSbORYssN",
      "execution_count": 30,
      "outputs": []
    },
    {
      "cell_type": "markdown",
      "source": [
        "# Model with multiple dense layer"
      ],
      "metadata": {
        "id": "8FQDjUFbZ-AN"
      },
      "id": "8FQDjUFbZ-AN"
    },
    {
      "cell_type": "code",
      "source": [
        "from keras.layers import LSTM, Conv1D, MaxPooling1D\n",
        "x = LSTM(256, return_sequences=True)(embedded_sequences)\n",
        "x = LSTM(256)(x)\n",
        "x = Dense(256, activation='relu')(x)\n",
        "x = Dense(128, activation='relu')(x)\n",
        "x = Dense(64, activation='relu')(x)\n",
        "preds = Dense(3, activation='softmax')(x)\n",
        "\n",
        "\n",
        "model = Model(inputs=sequence_input, outputs=preds)\n",
        "model.compile(loss='categorical_crossentropy', optimizer=Adam(), metrics=['accuracy'])\n",
        "\n",
        "# Train the model\n",
        "history = model.fit(x_train , y_train, validation_data=(x_val, y_val), epochs=5, batch_size=128)\n"
      ],
      "metadata": {
        "colab": {
          "base_uri": "https://localhost:8080/"
        },
        "id": "zgtz23BPYSOe",
        "outputId": "24ec41a6-96a0-4306-c4a3-1469e53e097e"
      },
      "id": "zgtz23BPYSOe",
      "execution_count": 34,
      "outputs": [
        {
          "output_type": "stream",
          "name": "stdout",
          "text": [
            "Epoch 1/5\n",
            "1371/1371 [==============================] - 1430s 1s/step - loss: 0.5933 - accuracy: 0.7476 - val_loss: 0.4209 - val_accuracy: 0.8381\n",
            "Epoch 2/5\n",
            "1371/1371 [==============================] - 1456s 1s/step - loss: 0.3476 - accuracy: 0.8718 - val_loss: 0.3040 - val_accuracy: 0.8897\n",
            "Epoch 3/5\n",
            "1371/1371 [==============================] - 1457s 1s/step - loss: 0.2678 - accuracy: 0.9037 - val_loss: 0.2640 - val_accuracy: 0.9072\n",
            "Epoch 4/5\n",
            "1371/1371 [==============================] - 1456s 1s/step - loss: 0.2216 - accuracy: 0.9214 - val_loss: 0.2473 - val_accuracy: 0.9125\n",
            "Epoch 5/5\n",
            "1371/1371 [==============================] - 1420s 1s/step - loss: 0.1912 - accuracy: 0.9325 - val_loss: 0.2399 - val_accuracy: 0.9182\n"
          ]
        }
      ]
    },
    {
      "cell_type": "code",
      "source": [
        "model.save('pretrained_lstm_model_multiple_dense_layer.h5')"
      ],
      "metadata": {
        "id": "Wj6Jlj5HaDIn"
      },
      "id": "Wj6Jlj5HaDIn",
      "execution_count": 35,
      "outputs": []
    },
    {
      "cell_type": "markdown",
      "source": [
        "# Model with LTSM 128 "
      ],
      "metadata": {
        "id": "zqLZu-rpkDBv"
      },
      "id": "zqLZu-rpkDBv"
    },
    {
      "cell_type": "code",
      "source": [
        "from keras.layers import LSTM\n",
        "\n",
        "sequence_input = Input(shape=(MAX_SEQUENCE_LENGTH,), dtype='int32')\n",
        "embedded_sequences = embedding_layer(sequence_input)\n",
        "x = LSTM(128, return_sequences=True)(embedded_sequences)\n",
        "x = LSTM(128)(x)\n",
        "x = Dense(128, activation='relu')(x)\n",
        "preds = Dense(3, activation='softmax')(x)\n",
        "\n",
        "\n",
        "\n",
        "from keras.models import Model\n",
        "from keras.optimizers import Adam\n",
        "\n",
        "# Compile the model\n",
        "model = Model(inputs=sequence_input, outputs=preds)\n",
        "model.compile(loss='categorical_crossentropy', optimizer=Adam(), metrics=['accuracy'])\n",
        "\n",
        "# Train the model\n",
        "history = model.fit(x_train , y_train, validation_data=(x_val, y_val), epochs=5, batch_size=128)\n",
        "\n",
        "# Evaluate the model\n",
        "loss, accuracy = model.evaluate(x_val, y_val, batch_size=32)\n",
        "print(\"Test Loss:\", loss)\n",
        "print(\"Test Accuracy:\", accuracy)\n",
        "\n",
        "\n",
        "model.save('pretrained_lstm_model_v2.h5')\n"
      ],
      "metadata": {
        "colab": {
          "base_uri": "https://localhost:8080/"
        },
        "id": "3FMkD5YcO77E",
        "outputId": "068e9b01-fae5-4d32-fbdd-a43dab2a4b88"
      },
      "id": "3FMkD5YcO77E",
      "execution_count": 36,
      "outputs": [
        {
          "output_type": "stream",
          "name": "stdout",
          "text": [
            "Archive:  pretrained_lstm_model_v2.zip\n",
            "  inflating: pretrained_lstm_model_v2.h5  \n"
          ]
        }
      ]
    },
    {
      "cell_type": "markdown",
      "source": [
        "# now loading model to test and draw graph"
      ],
      "metadata": {
        "id": "adMfuqYOk9Pu"
      },
      "id": "adMfuqYOk9Pu"
    },
    {
      "cell_type": "code",
      "source": [
        "model1 = load_model('pretrained_lstm_model.h5')\n",
        "model2 = load_model('pretrained_lstm_model_dropout_layer.h5')\n",
        "model3 = load_model('pretrained_lstm_model_multiple_dense_layer.h5')\n",
        "model4 = load_model('pretrained_lstm_model_v2.h5')\n",
        "\n",
        "\n"
      ],
      "metadata": {
        "id": "qJ3gM9pJPPqY"
      },
      "id": "qJ3gM9pJPPqY",
      "execution_count": 37,
      "outputs": []
    },
    {
      "cell_type": "code",
      "source": [
        "model4.summary()\n",
        "\n"
      ],
      "metadata": {
        "id": "poajChbmdMHn"
      },
      "id": "poajChbmdMHn",
      "execution_count": null,
      "outputs": []
    },
    {
      "cell_type": "code",
      "source": [
        "loss1, accuracy1 = model1.evaluate(x_val, y_val, batch_size=32)\n",
        "print(\"Test Loss:\", loss1)\n",
        "print(\"Test Accuracy:\", accuracy1)\n",
        "#######\n",
        "loss2, accuracy2 = model2.evaluate(x_val, y_val, batch_size=32)\n",
        "print(\"Test Loss:\", loss2)\n",
        "print(\"Test Accuracy:\", accuracy2)\n",
        "#######\n",
        "loss3, accuracy3 = model3.evaluate(x_val, y_val, batch_size=32)\n",
        "print(\"Test Loss:\", loss3)\n",
        "print(\"Test Accuracy:\", accuracy3)\n",
        "#######\n",
        "loss4, accuracy4 = model4.evaluate(x_val, y_val, batch_size=32)\n",
        "print(\"Test Loss:\", loss4)\n",
        "print(\"Test Accuracy:\", accuracy4)"
      ],
      "metadata": {
        "colab": {
          "base_uri": "https://localhost:8080/"
        },
        "id": "TXjKsZTjPu5D",
        "outputId": "575453d6-1b90-4bb6-babc-a3e4b5ec6a50"
      },
      "id": "TXjKsZTjPu5D",
      "execution_count": 38,
      "outputs": [
        {
          "output_type": "stream",
          "name": "stdout",
          "text": [
            "1371/1371 [==============================] - 153s 111ms/step - loss: 0.2364 - accuracy: 0.9181\n",
            "Test Loss: 0.23643963038921356\n",
            "Test Accuracy: 0.9180993437767029\n",
            "1371/1371 [==============================] - 154s 111ms/step - loss: 0.2855 - accuracy: 0.8987\n",
            "Test Loss: 0.23643963038921356\n",
            "Test Accuracy: 0.9180993437767029\n",
            "1371/1371 [==============================] - 165s 120ms/step - loss: 0.2399 - accuracy: 0.9182\n",
            "Test Loss: 0.23643963038921356\n",
            "Test Accuracy: 0.9180993437767029\n",
            "1371/1371 [==============================] - 76s 55ms/step - loss: 0.2015 - accuracy: 0.9308\n",
            "Test Loss: 0.23643963038921356\n",
            "Test Accuracy: 0.9180993437767029\n"
          ]
        }
      ]
    },
    {
      "cell_type": "code",
      "source": [
        "print(\"Model 1 \")\n",
        "print(\"Test accuracy:\", accuracy2)\n",
        "print(\"Test loss:\", loss2)\n",
        "\n",
        "print(\"Model 2 \")\n",
        "print(\"Test accuracy:\", accuracy1)\n",
        "print(\"Test loss:\", loss1)\n",
        "\n",
        "print(\"Model 3 \")\n",
        "print(\"Test accuracy:\", accuracy3)\n",
        "print(\"Test loss:\", loss3)\n",
        "\n",
        "print(\"Model 4 \")\n",
        "print(\"Test accuracy:\", accuracy4)\n",
        "print(\"Test loss:\", loss4)"
      ],
      "metadata": {
        "colab": {
          "base_uri": "https://localhost:8080/"
        },
        "id": "Os10Ux5fS7P6",
        "outputId": "d05bde02-95ee-46e5-acca-334115b3ead9"
      },
      "id": "Os10Ux5fS7P6",
      "execution_count": 39,
      "outputs": [
        {
          "output_type": "stream",
          "name": "stdout",
          "text": [
            "Model 1 \n",
            "Test accuracy: 0.8986957669258118\n",
            "Test loss: 0.2854965925216675\n",
            "Model 2 \n",
            "Test accuracy: 0.9180993437767029\n",
            "Test loss: 0.23643963038921356\n",
            "Model 3 \n",
            "Test accuracy: 0.9182133078575134\n",
            "Test loss: 0.23994413018226624\n",
            "Model 4 \n",
            "Test accuracy: 0.9307765960693359\n",
            "Test loss: 0.20153675973415375\n"
          ]
        }
      ]
    },
    {
      "cell_type": "code",
      "source": [
        "import matplotlib.pyplot as plt\n",
        "model_labels = ['Trail with \\ndropout regularization', 'Trail 2 with \\nLSTM(256)', 'Trai 3 with add. \\n2 dense layes ', 'Trai 4 with \\nLSTM(128) ']\n",
        "\n",
        "# Bar positions on the x-axis\n",
        "x_pos = range(len(model_labels))\n",
        "\n",
        "# Accuracy values\n",
        "accuracy_values = [accuracy2, accuracy1, accuracy3,accuracy4]\n",
        "\n",
        "# Create the bar plot\n",
        "plt.bar(x_pos, accuracy_values, align='center')\n",
        "\n",
        "# Set the x-axis ticks and labels\n",
        "plt.xticks(x_pos, model_labels)\n",
        "\n",
        "# Set the y-axis label\n",
        "plt.ylabel('Accuracy')\n",
        "\n",
        "# Set the plot title\n",
        "plt.title('Accuracy Comparison of Different Models')\n",
        "\n",
        "# Display the plot\n",
        "plt.show()"
      ],
      "metadata": {
        "colab": {
          "base_uri": "https://localhost:8080/",
          "height": 468
        },
        "id": "M02tOnjgTkYU",
        "outputId": "f90ea90b-213d-4337-d90a-7bf825447d6b"
      },
      "id": "M02tOnjgTkYU",
      "execution_count": 43,
      "outputs": [
        {
          "output_type": "display_data",
          "data": {
            "text/plain": [
              "<Figure size 640x480 with 1 Axes>"
            ],
            "image/png": "[encoded data removed]"
          },
          "metadata": {}
        }
      ]
    },
    {
      "cell_type": "code",
      "source": [
        "\n",
        "x_values = range(len(model_labels))\n",
        "y_values = [accuracy2, accuracy1, accuracy3,accuracy4]\n",
        "\n",
        "# Create the line plot\n",
        "plt.plot(x_values, y_values, marker='o', linestyle='-', linewidth=2)\n",
        "\n",
        "# Set the x-axis ticks and labels\n",
        "plt.xticks(x_values, model_labels)\n",
        "\n",
        "# Set the y-axis label\n",
        "plt.ylabel('Accuracy')\n",
        "\n",
        "# Set the plot title\n",
        "plt.title('Accuracy Comparison of Different Models')\n",
        "\n",
        "# Display the plot\n",
        "plt.show()"
      ],
      "metadata": {
        "colab": {
          "base_uri": "https://localhost:8080/",
          "height": 468
        },
        "id": "3GA0lCZRWNe9",
        "outputId": "39027801-96b8-4424-e5fd-4f2e0835cdbd"
      },
      "id": "3GA0lCZRWNe9",
      "execution_count": 45,
      "outputs": [
        {
          "output_type": "display_data",
          "data": {
            "text/plain": [
              "<Figure size 640x480 with 1 Axes>"
            ],
            "image/png": "[encoded data removed]"
          },
          "metadata": {}
        }
      ]
    }
  ],
  "metadata": {
    "kernelspec": {
      "display_name": "Python 3 (ipykernel)",
      "language": "python",
      "name": "python3"
    },
    "language_info": {
      "codemirror_mode": {
        "name": "ipython",
        "version": 3
      },
      "file_extension": ".py",
      "mimetype": "text/x-python",
      "name": "python",
      "nbconvert_exporter": "python",
      "pygments_lexer": "ipython3",
      "version": "3.9.13"
    },
    "colab": {
      "provenance": []
    }
  },
  "nbformat": 4,
  "nbformat_minor": 5
}