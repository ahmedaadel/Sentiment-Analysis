{
 "cells": [
  {
   "cell_type": "code",
   "execution_count": 63,
   "id": "27a7bb1d",
   "metadata": {},
   "outputs": [
    {
     "name": "stderr",
     "output_type": "stream",
     "text": [
      "[nltk_data] Downloading package punkt to /home/ahmed/nltk_data...\n",
      "[nltk_data]   Package punkt is already up-to-date!\n",
      "[nltk_data] Downloading package wordnet to /home/ahmed/nltk_data...\n",
      "[nltk_data]   Package wordnet is already up-to-date!\n"
     ]
    }
   ],
   "source": [
    "import os\n",
    "import sys\n",
    "import pandas as pd\n",
    "import numpy as np\n",
    "import tensorflow as tf\n",
    "from tensorflow.keras.preprocessing.text import Tokenizer\n",
    "from tensorflow.keras.preprocessing.sequence import pad_sequences\n",
    "from tensorflow.keras.layers import Embedding, Conv1D, GlobalMaxPooling1D, Dense, Dropout,MaxPooling1D\n",
    "from tensorflow.keras.models import Sequential\n",
    "import nltk\n",
    "nltk.download('punkt')\n",
    "nltk.download('wordnet')\n",
    "from nltk.tokenize import word_tokenize\n",
    "from nltk.stem import WordNetLemmatizer\n",
    "from nltk.corpus import stopwords\n",
    "import re"
   ]
  },
  {
   "cell_type": "code",
   "execution_count": 2,
   "id": "0a133803",
   "metadata": {},
   "outputs": [],
   "source": [
    "# # Load the CSV file into a pandas DataFrame\n",
    "# df = pd.read_csv('/home/ahmed/Desktop/tweets.csv')\n",
    "\n",
    "# # Shuffle the rows randomly\n",
    "# df = df.sample(frac=1)\n",
    "\n",
    "# # Split the DataFrame into two parts: 80% for training and 20% for testing\n",
    "# train_df = df[:int(len(df)*0.8)]\n",
    "# test_df = df[int(len(df)*0.8):]\n",
    "\n",
    "# # Save the two DataFrames into separate CSV files\n",
    "# train_df.to_csv('train_tweets.csv', index=False)\n",
    "# test_df.to_csv('test_tweets.csv', index=False)"
   ]
  },
  {
   "cell_type": "code",
   "execution_count": 3,
   "id": "4a48fdf4",
   "metadata": {},
   "outputs": [
    {
     "name": "stderr",
     "output_type": "stream",
     "text": [
      "/home/ahmed/.local/lib/python3.10/site-packages/IPython/core/interactiveshell.py:3460: DtypeWarning: Columns (10,11,12,13,14,15,16,17,18) have mixed types.Specify dtype option on import or set low_memory=False.\n",
      "  exec(code_obj, self.user_global_ns, self.user_ns)\n",
      "/home/ahmed/.local/lib/python3.10/site-packages/IPython/core/interactiveshell.py:3460: DtypeWarning: Columns (10,11,12,13,14,15) have mixed types.Specify dtype option on import or set low_memory=False.\n",
      "  exec(code_obj, self.user_global_ns, self.user_ns)\n"
     ]
    }
   ],
   "source": [
    "# Load data\n",
    "train = pd.read_csv('/home/ahmed/Desktop/20190021_20190042_20190224_S4/train/train_tweets.csv')\n",
    "test = pd.read_csv('/home/ahmed/Desktop/20190021_20190042_20190224_S4/test/test_tweets.csv')"
   ]
  },
  {
   "cell_type": "code",
   "execution_count": 4,
   "id": "8e34e261",
   "metadata": {},
   "outputs": [],
   "source": [
    "#If there is any other label out of (good, neutral, bad)\n",
    "train.loc[~train['labels'].isin(['good', 'bad', 'neutral']), 'labels'] = 'neutral'\n",
    "test.loc[~test['labels'].isin(['good', 'bad', 'neutral']), 'labels'] = 'neutral'\n"
   ]
  },
  {
   "cell_type": "code",
   "execution_count": 5,
   "id": "42a17bb0",
   "metadata": {},
   "outputs": [],
   "source": [
    "train_tweets = train['tweets'].values\n",
    "train_labels = train['labels'].values\n",
    "\n",
    "test_tweets = test['tweets'].values\n",
    "test_labels = test['labels'].values\n"
   ]
  },
  {
   "cell_type": "code",
   "execution_count": 6,
   "id": "89327113",
   "metadata": {},
   "outputs": [
    {
     "name": "stdout",
     "output_type": "stream",
     "text": [
      "['bad' 'good' 'bad' ... 'bad' 'good' 'bad']\n",
      "neutral\n",
      "['bad' 'bad' 'neutral' ... 'bad' 'bad' 'bad']\n",
      "good\n",
      "175435\n",
      "175435\n",
      "43859\n",
      "43859\n"
     ]
    }
   ],
   "source": [
    "#train, test contain bad,good,neutral\n",
    "print(train_labels)\n",
    "print(train_labels[900])\n",
    "\n",
    "print(test_labels)\n",
    "print(test_labels[1000])\n",
    "\n",
    "print(len(train_tweets))\n",
    "print(len(train_labels))\n",
    "\n",
    "\n",
    "print(len(test_tweets))\n",
    "print(len(test_labels))"
   ]
  },
  {
   "cell_type": "code",
   "execution_count": 7,
   "id": "8f61473b",
   "metadata": {},
   "outputs": [],
   "source": [
    "# Define a regular expression pattern to match URLs\n",
    "url_pattern = re.compile(r'https?://\\S+|www\\.\\S+')\n",
    "\n",
    "# Function to Remove URLs and unimportant charcters\n",
    "def preprocess_text(text):\n",
    "    text_without_urls = url_pattern.sub('', str(text))\n",
    "    text_without_special_chars = re.sub(r\"[^a-zA-Z0-9]\", \" \", text_without_urls)\n",
    "    return text_without_special_chars\n",
    "\n",
    "\n",
    "# Function to preprocess tweet with lemmatization\n",
    "def lemmatize(text):\n",
    "    \n",
    "    # Tokenize the text into individual words\n",
    "    tokens = word_tokenize(text)\n",
    "    \n",
    "    # Remove stop words\n",
    "    stop_words = set(stopwords.words('english'))\n",
    "    filtered_tokens = [token for token in tokens if token.lower() not in stop_words]\n",
    "    \n",
    "    # Lemmatize the filtered tokens\n",
    "    lemmatizer = WordNetLemmatizer()\n",
    "    lemmatized_tokens = [lemmatizer.lemmatize(token) for token in filtered_tokens]\n",
    "    \n",
    "    # Join the lemmatized tokens back into a string\n",
    "    preprocessed_text = \" \".join(lemmatized_tokens)\n",
    "    \n",
    "    return preprocessed_text"
   ]
  },
  {
   "cell_type": "code",
   "execution_count": 8,
   "id": "7b445e60",
   "metadata": {},
   "outputs": [
    {
     "name": "stdout",
     "output_type": "stream",
     "text": [
      "The cost of learning has declined (YouTube, online courses etc.) So why is the price of education so resistant to change? Is ChatGPT and other AI learning models the cultural reset we need to educate (not just learn) more and cheaply?  @profgalloway https://t.co/ovzd12GoGC\n"
     ]
    }
   ],
   "source": [
    "print(train_tweets[5])"
   ]
  },
  {
   "cell_type": "code",
   "execution_count": 9,
   "id": "aa5deb6d",
   "metadata": {},
   "outputs": [],
   "source": [
    "train_tweets = list(map(preprocess_text, train_tweets))\n",
    "test_tweets = list(map(preprocess_text, test_tweets))"
   ]
  },
  {
   "cell_type": "code",
   "execution_count": 10,
   "id": "82a45a6c",
   "metadata": {},
   "outputs": [],
   "source": [
    "train_tweets = list(map(lemmatize, train_tweets))\n",
    "test_tweets = list(map(lemmatize, test_tweets))"
   ]
  },
  {
   "cell_type": "code",
   "execution_count": 11,
   "id": "bbfe8ee0",
   "metadata": {},
   "outputs": [
    {
     "name": "stdout",
     "output_type": "stream",
     "text": [
      "175435\n",
      "43859\n"
     ]
    }
   ],
   "source": [
    "print(len(train_tweets))\n",
    "print(len(test_tweets))"
   ]
  },
  {
   "cell_type": "code",
   "execution_count": 12,
   "id": "f95f4602",
   "metadata": {},
   "outputs": [
    {
     "name": "stdout",
     "output_type": "stream",
     "text": [
      "cost learning declined YouTube online course etc price education resistant change ChatGPT AI learning model cultural reset need educate learn cheaply profgalloway\n"
     ]
    }
   ],
   "source": [
    "print(train_tweets[5])"
   ]
  },
  {
   "cell_type": "code",
   "execution_count": 13,
   "id": "f92a9c9d",
   "metadata": {},
   "outputs": [],
   "source": [
    "max_words = 5000\n",
    "max_len = 100\n",
    "tokenizer = Tokenizer(num_words=max_words)\n",
    "tokenizer.fit_on_texts(train_tweets)\n",
    "tokenizer.fit_on_texts(test_tweets)\n",
    "\n",
    "train_sequences = tokenizer.texts_to_sequences(train_tweets)\n",
    "test_sequences = tokenizer.texts_to_sequences(test_tweets)\n",
    "\n",
    "word_index = tokenizer.word_index\n",
    "train_tweets = pad_sequences(train_sequences, maxlen=max_len)\n",
    "test_tweets = pad_sequences(test_sequences, maxlen=max_len)"
   ]
  },
  {
   "cell_type": "code",
   "execution_count": 14,
   "id": "46da595c",
   "metadata": {},
   "outputs": [
    {
     "name": "stdout",
     "output_type": "stream",
     "text": [
      "[   0    0    0    0    0    0    0    0    0    0    0    0    0    0\n",
      "    0    0    0    0    0    0    0    0    0    0    0    0    0    0\n",
      "    0    0    0    0    0    0    0    0    0    0    0    0    0    0\n",
      "    0    0    0    0    0    0    0    0    0    0    0    0    0    0\n",
      "    0    0    0    0    0    0    0    0    0    0    0    0    0    0\n",
      "    0    0    0    0    0    0    0    0    0    0    0    0  689   95\n",
      "  209  387  436  349 1139  198   97    1    3   95   43 3854 4991   35\n",
      " 4930  166]\n"
     ]
    }
   ],
   "source": [
    "print(train_tweets[5])"
   ]
  },
  {
   "cell_type": "code",
   "execution_count": 88,
   "id": "00a98021",
   "metadata": {},
   "outputs": [
    {
     "name": "stdout",
     "output_type": "stream",
     "text": [
      "Found 400000 word vectors.\n"
     ]
    }
   ],
   "source": [
    "EMBEDDING_DIM = 100\n",
    "\n",
    "embeddings_index = {}\n",
    "\n",
    "with open('/home/ahmed/Desktop/glove.6B.100d.txt', encoding='utf-8') as f:\n",
    "    for line in f:\n",
    "        values = line.split()\n",
    "        word = values[0]\n",
    "        coefs = np.asarray(values[1:], dtype='float32')\n",
    "        embeddings_index[word] = coefs\n",
    "         \n",
    "print('Found %s word vectors.' % len(embeddings_index))\n"
   ]
  },
  {
   "cell_type": "code",
   "execution_count": 89,
   "id": "ea177d26",
   "metadata": {},
   "outputs": [
    {
     "name": "stdout",
     "output_type": "stream",
     "text": [
      "[ 0.4766     0.15548   -0.17057   -0.37015    1.3021    -0.4373\n",
      " -0.076642   0.40814   -0.56646    0.070424  -0.054886  -0.68992\n",
      " -0.0046758  0.095351  -0.91242   -0.19537    1.1449    -0.24536\n",
      "  0.061255   1.2869    -0.87882   -0.78698    0.11753   -0.44307\n",
      "  1.3691     0.40399    0.61751    0.3009     0.83817   -0.87306\n",
      "  0.46724    0.43674   -0.085416   1.0479     0.54832   -0.049\n",
      " -0.78863    0.81503   -1.9494    -0.01875    0.28641    0.45334\n",
      " -0.90373    0.3384     0.17318   -0.36095   -0.26939   -0.67757\n",
      " -0.28882   -0.3612    -0.50714   -0.51695   -0.15347    0.68853\n",
      " -0.59546   -1.702      0.32584    0.41382    1.3394     0.57089\n",
      " -0.52937    1.7442    -0.38348    0.77434   -0.0035287 -0.89848\n",
      " -0.34861   -0.039064   0.59802    0.10989    0.040525   0.64655\n",
      " -0.45048    0.55286   -0.52969    0.51542   -0.54981   -0.23506\n",
      " -0.46078   -0.63185   -0.27618   -0.5117     0.54844   -0.58617\n",
      " -1.3677    -0.14594   -0.68627   -0.81571    0.83109   -0.57368\n",
      " -0.17038   -0.33908   -0.32881   -0.17043   -0.37239    1.0491\n",
      "  0.15317    0.32766    0.91148    0.54803  ]\n"
     ]
    }
   ],
   "source": [
    "print(embeddings_index['awards'])"
   ]
  },
  {
   "cell_type": "code",
   "execution_count": 90,
   "id": "b86f7a78",
   "metadata": {},
   "outputs": [
    {
     "name": "stdout",
     "output_type": "stream",
     "text": [
      "Shape of Embedding Matrix:  (92793, 100)\n"
     ]
    }
   ],
   "source": [
    "word_index_dictionary = tokenizer.word_index # the dictionary\n",
    "\n",
    "embedding_matrix = np.zeros((len(word_index_dictionary) + 1, EMBEDDING_DIM))\n",
    "\n",
    "for word, i in word_index_dictionary.items():\n",
    "    embedding_vector = embeddings_index.get(word) # if the word is not in this dict. it will remain zeros\n",
    "    if embedding_vector is not None:\n",
    "        embedding_matrix[i] = embedding_vector\n",
    "\n",
    "print ('Shape of Embedding Matrix: ',embedding_matrix.shape)\n"
   ]
  },
  {
   "cell_type": "code",
   "execution_count": 18,
   "id": "88adc7a8",
   "metadata": {},
   "outputs": [],
   "source": [
    "\n",
    "labels_dict = {'bad': 0, 'good': 1 , 'neutral': 2}\n",
    "\n",
    "train_labels = [labels_dict[label] for label in train_labels]\n",
    "test_labels = [labels_dict[label] for label in test_labels]\n",
    "\n",
    "# print(train_labels)\n",
    "# print(test_labels)"
   ]
  },
  {
   "cell_type": "code",
   "execution_count": 19,
   "id": "10139a7c",
   "metadata": {},
   "outputs": [],
   "source": [
    "from keras.utils import to_categorical\n",
    "# Convert integer labels to one-hot encoding\n",
    "num_classes = 3\n",
    "train_labels = to_categorical(train_labels, num_classes)\n",
    "test_labels = to_categorical(test_labels, num_classes)"
   ]
  },
  {
   "cell_type": "code",
   "execution_count": 20,
   "id": "9849e16f",
   "metadata": {},
   "outputs": [
    {
     "name": "stdout",
     "output_type": "stream",
     "text": [
      "[[1. 0. 0.]\n",
      " [0. 1. 0.]\n",
      " [1. 0. 0.]\n",
      " ...\n",
      " [1. 0. 0.]\n",
      " [0. 1. 0.]\n",
      " [1. 0. 0.]]\n"
     ]
    }
   ],
   "source": [
    "print(train_labels)"
   ]
  },
  {
   "cell_type": "code",
   "execution_count": 21,
   "id": "d0a206d5",
   "metadata": {},
   "outputs": [
    {
     "name": "stdout",
     "output_type": "stream",
     "text": [
      "[[1. 0. 0.]\n",
      " [1. 0. 0.]\n",
      " [0. 0. 1.]\n",
      " ...\n",
      " [1. 0. 0.]\n",
      " [1. 0. 0.]\n",
      " [1. 0. 0.]]\n"
     ]
    }
   ],
   "source": [
    "print(test_labels)"
   ]
  },
  {
   "cell_type": "markdown",
   "id": "c5a0ff7c",
   "metadata": {},
   "source": [
    "# First Trial"
   ]
  },
  {
   "cell_type": "code",
   "execution_count": 91,
   "id": "aa64b9b9",
   "metadata": {},
   "outputs": [
    {
     "name": "stdout",
     "output_type": "stream",
     "text": [
      "Model: \"sequential_26\"\n",
      "_________________________________________________________________\n",
      " Layer (type)                Output Shape              Param #   \n",
      "=================================================================\n",
      " embedding_2 (Embedding)     (None, 100, 100)          9279300   \n",
      "                                                                 \n",
      " conv1d_59 (Conv1D)          (None, 96, 128)           64128     \n",
      "                                                                 \n",
      " global_max_pooling1d_20 (Gl  (None, 128)              0         \n",
      " obalMaxPooling1D)                                               \n",
      "                                                                 \n",
      " dense_12 (Dense)            (None, 128)               16512     \n",
      "                                                                 \n",
      " dropout_19 (Dropout)        (None, 128)               0         \n",
      "                                                                 \n",
      " dense_13 (Dense)            (None, 3)                 387       \n",
      "                                                                 \n",
      "=================================================================\n",
      "Total params: 9,360,327\n",
      "Trainable params: 81,027\n",
      "Non-trainable params: 9,279,300\n",
      "_________________________________________________________________\n"
     ]
    }
   ],
   "source": [
    "# 1st Trial Define CNN model\n",
    "\n",
    "\n",
    "embedding_layer = Embedding(len(word_index_dictionary) + 1,\n",
    "                            EMBEDDING_DIM, \n",
    "                            weights=[embedding_matrix], \n",
    "                            input_length= max_len , trainable=False\n",
    "                           )\n",
    "                          \n",
    "\n",
    "\n",
    "filters = 128\n",
    "kernel_size = 5\n",
    "hidden_dims = 128\n",
    "\n",
    "model1 = Sequential()\n",
    "model1.add(embedding_layer)\n",
    "model1.add(Conv1D(filters, kernel_size, activation='relu'))\n",
    "model1.add(GlobalMaxPooling1D())\n",
    "model1.add(Dense(hidden_dims, activation='relu'))\n",
    "model1.add(Dropout(0.5))\n",
    "model1.add(Dense(3, activation='softmax'))\n",
    "\n",
    "model1.compile(optimizer='adam', loss='categorical_crossentropy', metrics=['accuracy'])\n",
    "model1.summary()"
   ]
  },
  {
   "cell_type": "code",
   "execution_count": 25,
   "id": "eff0ef0c",
   "metadata": {},
   "outputs": [
    {
     "name": "stdout",
     "output_type": "stream",
     "text": [
      "(175435, 100)\n",
      "(175435, 3)\n",
      "(43859, 100)\n",
      "(43859, 3)\n"
     ]
    }
   ],
   "source": [
    "print(train_tweets.shape)\n",
    "print(train_labels.shape)\n",
    "print(test_tweets.shape)\n",
    "print(test_labels.shape)"
   ]
  },
  {
   "cell_type": "code",
   "execution_count": 27,
   "id": "8ac4359f",
   "metadata": {},
   "outputs": [
    {
     "name": "stdout",
     "output_type": "stream",
     "text": [
      "Epoch 1/10\n",
      "5483/5483 [==============================] - 54s 10ms/step - loss: 0.4065 - accuracy: 0.8454 - val_loss: 0.4791 - val_accuracy: 0.8171\n",
      "Epoch 2/10\n",
      "5483/5483 [==============================] - 57s 10ms/step - loss: 0.3881 - accuracy: 0.8545 - val_loss: 0.5018 - val_accuracy: 0.8092\n",
      "Epoch 3/10\n",
      "5483/5483 [==============================] - 57s 10ms/step - loss: 0.3710 - accuracy: 0.8613 - val_loss: 0.4957 - val_accuracy: 0.8174\n",
      "Epoch 4/10\n",
      "5483/5483 [==============================] - 57s 10ms/step - loss: 0.3562 - accuracy: 0.8678 - val_loss: 0.4997 - val_accuracy: 0.8186\n",
      "Epoch 5/10\n",
      "5483/5483 [==============================] - 59s 11ms/step - loss: 0.3431 - accuracy: 0.8731 - val_loss: 0.5167 - val_accuracy: 0.8143\n",
      "Epoch 6/10\n",
      "5483/5483 [==============================] - 57s 10ms/step - loss: 0.3316 - accuracy: 0.8778 - val_loss: 0.5146 - val_accuracy: 0.8138\n",
      "Epoch 7/10\n",
      "5483/5483 [==============================] - 57s 10ms/step - loss: 0.3198 - accuracy: 0.8819 - val_loss: 0.5348 - val_accuracy: 0.8173\n",
      "Epoch 8/10\n",
      "5483/5483 [==============================] - 58s 11ms/step - loss: 0.3117 - accuracy: 0.8858 - val_loss: 0.5517 - val_accuracy: 0.8155\n",
      "Epoch 9/10\n",
      "5483/5483 [==============================] - 58s 11ms/step - loss: 0.3025 - accuracy: 0.8891 - val_loss: 0.5605 - val_accuracy: 0.8141\n",
      "Epoch 10/10\n",
      "5483/5483 [==============================] - 58s 11ms/step - loss: 0.2956 - accuracy: 0.8914 - val_loss: 0.5556 - val_accuracy: 0.8091\n"
     ]
    }
   ],
   "source": [
    "# Train model 1\n",
    "epochs = 10\n",
    "batch_size = 32\n",
    "\n",
    "hist= model1.fit(train_tweets, train_labels, epochs=epochs, batch_size=batch_size,\n",
    "                    validation_data=(test_tweets, test_labels))"
   ]
  },
  {
   "cell_type": "code",
   "execution_count": 28,
   "id": "a339a958",
   "metadata": {},
   "outputs": [
    {
     "data": {
      "image/png": "[encoded data removed]",
      "text/plain": [
       "<Figure size 640x480 with 1 Axes>"
      ]
     },
     "metadata": {},
     "output_type": "display_data"
    }
   ],
   "source": [
    "import matplotlib.pyplot as plt\n",
    "plt.plot(hist.history['accuracy'])\n",
    "plt.plot(hist.history['val_accuracy'])\n",
    "plt.plot(hist.history['loss'])\n",
    "plt.plot(hist.history['val_loss'])\n",
    "plt.title(\"model accuracy\")\n",
    "plt.ylabel(\"Accuracy\")\n",
    "plt.xlabel(\"Epoch\")\n",
    "plt.legend([\"Accuracy\",\"Validation Accuracy\",\"loss\",\"Validation Loss\"])\n",
    "plt.show()"
   ]
  },
  {
   "cell_type": "code",
   "execution_count": 29,
   "id": "7a7ed1c2",
   "metadata": {},
   "outputs": [],
   "source": [
    "results = []"
   ]
  },
  {
   "cell_type": "code",
   "execution_count": 31,
   "id": "75103f07",
   "metadata": {},
   "outputs": [
    {
     "name": "stdout",
     "output_type": "stream",
     "text": [
      "1371/1371 [==============================] - 5s 3ms/step - loss: 0.5556 - accuracy: 0.8091\n",
      "Test accuracy: 0.8090927600860596\n"
     ]
    }
   ],
   "source": [
    "# Evaluate model1\n",
    "test_loss1, test_acc1 = model1.evaluate(test_tweets, test_labels)\n",
    "print('Test accuracy:', test_acc1)\n",
    "\n",
    "results.append(test_acc1)"
   ]
  },
  {
   "cell_type": "code",
   "execution_count": 33,
   "id": "56263ebe",
   "metadata": {},
   "outputs": [],
   "source": [
    "model1.save('model1_cnn_nlp.h5')"
   ]
  },
  {
   "cell_type": "code",
   "execution_count": 34,
   "id": "274e8c19",
   "metadata": {},
   "outputs": [
    {
     "name": "stdout",
     "output_type": "stream",
     "text": [
      "GPT weapon two side learn use bro good luck 33\n",
      "[[   0    0    0    0    0    0    0    0    0    0    0    0    0    0\n",
      "     0    0    0    0    0    0    0    0    0    0    0    0    0    0\n",
      "     0    0    0    0    0    0    0    0    0    0    0    0    0    0\n",
      "     0    0    0    0    0    0    0    0    0    0    0    0    0    0\n",
      "     0    0    0    0    0    0    0    0    0    0    0    0    0    0\n",
      "     0    0    0    0    0    0    0    0    0    0    0    0    0    0\n",
      "     0    0    0    0    0    0    0   42 3186  246  597  166   11 1200\n",
      "    20 1356]]\n"
     ]
    }
   ],
   "source": [
    "user_tweet = 'GPT is a weapon with two sides you should learn how to use it bro,, good luck <33'\n",
    "\n",
    "#Apply Preprocessing to clean input and pass to model to predict\n",
    "user_tweet = preprocess_text(user_tweet)\n",
    "user_tweet = lemmatize(user_tweet)\n",
    "\n",
    "print(user_tweet)\n",
    "\n",
    "input_sequences = tokenizer.texts_to_sequences([user_tweet])\n",
    "user_tweet = pad_sequences(input_sequences, maxlen=max_len)\n",
    "\n",
    "print(user_tweet)\n"
   ]
  },
  {
   "cell_type": "code",
   "execution_count": 35,
   "id": "4b06ea67",
   "metadata": {},
   "outputs": [
    {
     "name": "stdout",
     "output_type": "stream",
     "text": [
      "1/1 [==============================] - 0s 66ms/step\n",
      "[0.0359843  0.8805937  0.08342198]\n",
      "Tweet is Positive\n"
     ]
    }
   ],
   "source": [
    "from keras.models import load_model\n",
    "saved_model = load_model(\"model1_cnn_nlp.h5\")\n",
    "\n",
    "output = saved_model.predict(user_tweet)\n",
    "\n",
    "print(output[0])\n",
    "\n",
    "#[bad, good, neutral]\n",
    "# print(output[0][0]) #Negative\n",
    "# print(output[0][1]) #Positive\n",
    "# print(output[0][2]) #Neutral\n",
    "\n",
    "if output[0][0] > output[0][1] and output[0][0] > output[0][2]:\n",
    "    print(\"Tweet is \" + \"Negative\")\n",
    "elif output[0][1] > output[0][0] and output[0][1] > output[0][2]:\n",
    "    print(\"Tweet is \" + \"Positive\")\n",
    "else:\n",
    "    print(\"Tweet is \" + \"Neutral\")"
   ]
  },
  {
   "cell_type": "markdown",
   "id": "7a6bc1e1",
   "metadata": {},
   "source": [
    "# Second Trial"
   ]
  },
  {
   "cell_type": "code",
   "execution_count": 36,
   "id": "78867d97",
   "metadata": {},
   "outputs": [
    {
     "name": "stdout",
     "output_type": "stream",
     "text": [
      "Model: \"sequential_1\"\n",
      "_________________________________________________________________\n",
      " Layer (type)                Output Shape              Param #   \n",
      "=================================================================\n",
      " embedding (Embedding)       (None, 100, 100)          9279300   \n",
      "                                                                 \n",
      " conv1d_1 (Conv1D)           (None, 100, 64)           19264     \n",
      "                                                                 \n",
      " global_max_pooling1d_1 (Glo  (None, 64)               0         \n",
      " balMaxPooling1D)                                                \n",
      "                                                                 \n",
      " dense_2 (Dense)             (None, 3)                 195       \n",
      "                                                                 \n",
      "=================================================================\n",
      "Total params: 9,298,759\n",
      "Trainable params: 19,459\n",
      "Non-trainable params: 9,279,300\n",
      "_________________________________________________________________\n"
     ]
    }
   ],
   "source": [
    "model2 = Sequential()\n",
    "model2.add(embedding_layer)\n",
    "model2.add(Conv1D(filters=64, kernel_size=3, padding='same', activation='relu'))\n",
    "model2.add(GlobalMaxPooling1D())\n",
    "model2.add(Dense(3, activation='softmax'))\n",
    "\n",
    "model2.compile(optimizer='adam', loss='categorical_crossentropy', metrics=['accuracy'])\n",
    "model2.summary()\n"
   ]
  },
  {
   "cell_type": "code",
   "execution_count": 40,
   "id": "1d0f53ec",
   "metadata": {},
   "outputs": [
    {
     "name": "stdout",
     "output_type": "stream",
     "text": [
      "Epoch 1/10\n",
      "2742/2742 [==============================] - 23s 8ms/step - loss: 0.6688 - accuracy: 0.7169 - val_loss: 0.5732 - val_accuracy: 0.7674\n",
      "Epoch 2/10\n",
      "2742/2742 [==============================] - 26s 9ms/step - loss: 0.5410 - accuracy: 0.7853 - val_loss: 0.5405 - val_accuracy: 0.7843\n",
      "Epoch 3/10\n",
      "2742/2742 [==============================] - 27s 10ms/step - loss: 0.5054 - accuracy: 0.8028 - val_loss: 0.5345 - val_accuracy: 0.7864\n",
      "Epoch 4/10\n",
      "2742/2742 [==============================] - 26s 10ms/step - loss: 0.4816 - accuracy: 0.8145 - val_loss: 0.5247 - val_accuracy: 0.7935\n",
      "Epoch 5/10\n",
      "2742/2742 [==============================] - 26s 9ms/step - loss: 0.4651 - accuracy: 0.8217 - val_loss: 0.5088 - val_accuracy: 0.8040\n",
      "Epoch 6/10\n",
      "2742/2742 [==============================] - 26s 10ms/step - loss: 0.4523 - accuracy: 0.8278 - val_loss: 0.5077 - val_accuracy: 0.8054\n",
      "Epoch 7/10\n",
      "2742/2742 [==============================] - 26s 9ms/step - loss: 0.4418 - accuracy: 0.8329 - val_loss: 0.5097 - val_accuracy: 0.8067\n",
      "Epoch 8/10\n",
      "2742/2742 [==============================] - 26s 10ms/step - loss: 0.4344 - accuracy: 0.8357 - val_loss: 0.5543 - val_accuracy: 0.7869\n",
      "Epoch 9/10\n",
      "2742/2742 [==============================] - 26s 9ms/step - loss: 0.4273 - accuracy: 0.8399 - val_loss: 0.5103 - val_accuracy: 0.8068\n",
      "Epoch 10/10\n",
      "2742/2742 [==============================] - 26s 9ms/step - loss: 0.4207 - accuracy: 0.8435 - val_loss: 0.5039 - val_accuracy: 0.8098\n"
     ]
    }
   ],
   "source": [
    "#Train model2\n",
    "hist2= model2.fit(train_tweets, train_labels, epochs=10, batch_size=64,\n",
    "                    validation_data=(test_tweets, test_labels))"
   ]
  },
  {
   "cell_type": "code",
   "execution_count": 41,
   "id": "af62d93a",
   "metadata": {},
   "outputs": [
    {
     "name": "stdout",
     "output_type": "stream",
     "text": [
      "1371/1371 [==============================] - 3s 2ms/step - loss: 0.5039 - accuracy: 0.8098\n",
      "Test accuracy: 0.8098223805427551\n"
     ]
    }
   ],
   "source": [
    "# Evaluate model2\n",
    "test_loss2, test_acc2 = model2.evaluate(test_tweets, test_labels)\n",
    "print('Test accuracy:', test_acc2)\n",
    "\n",
    "results.append(test_acc2)\n",
    "model2.save('model2_cnn_nlp.h5')"
   ]
  },
  {
   "cell_type": "markdown",
   "id": "663f4205",
   "metadata": {},
   "source": [
    "# 3rd Trial"
   ]
  },
  {
   "cell_type": "code",
   "execution_count": 50,
   "id": "44cbc5ce",
   "metadata": {},
   "outputs": [
    {
     "name": "stdout",
     "output_type": "stream",
     "text": [
      "Model: \"sequential_10\"\n",
      "_________________________________________________________________\n",
      " Layer (type)                Output Shape              Param #   \n",
      "=================================================================\n",
      " embedding (Embedding)       (None, 100, 100)          9279300   \n",
      "                                                                 \n",
      " conv1d_24 (Conv1D)          (None, 100, 64)           19264     \n",
      "                                                                 \n",
      " conv1d_25 (Conv1D)          (None, 100, 64)           12352     \n",
      "                                                                 \n",
      " dropout_8 (Dropout)         (None, 100, 64)           0         \n",
      "                                                                 \n",
      " conv1d_26 (Conv1D)          (None, 100, 128)          24704     \n",
      "                                                                 \n",
      " conv1d_27 (Conv1D)          (None, 100, 128)          49280     \n",
      "                                                                 \n",
      " global_max_pooling1d_8 (Glo  (None, 128)              0         \n",
      " balMaxPooling1D)                                                \n",
      "                                                                 \n",
      " dropout_9 (Dropout)         (None, 128)               0         \n",
      "                                                                 \n",
      " dense_4 (Dense)             (None, 3)                 387       \n",
      "                                                                 \n",
      "=================================================================\n",
      "Total params: 9,385,287\n",
      "Trainable params: 105,987\n",
      "Non-trainable params: 9,279,300\n",
      "_________________________________________________________________\n"
     ]
    }
   ],
   "source": [
    "model3 = Sequential()\n",
    "model3.add(embedding_layer)\n",
    "model3.add(Conv1D(filters=64, kernel_size=3, padding='same', activation='relu'))\n",
    "model3.add(Conv1D(filters=64, kernel_size=3, padding='same', activation='relu'))\n",
    "model3.add(Dropout(0.25))\n",
    "model3.add(Conv1D(filters=128, kernel_size=3, padding='same', activation='relu'))\n",
    "model3.add(Conv1D(filters=128, kernel_size=3, padding='same', activation='relu'))\n",
    "model3.add(GlobalMaxPooling1D())\n",
    "model3.add(Dropout(0.5))\n",
    "model3.add(Dense(3, activation='softmax'))\n",
    "\n",
    "model3.compile(optimizer='adam', loss='categorical_crossentropy', metrics=['accuracy'])\n",
    "model3.summary()\n"
   ]
  },
  {
   "cell_type": "code",
   "execution_count": 52,
   "id": "f697b422",
   "metadata": {},
   "outputs": [
    {
     "name": "stdout",
     "output_type": "stream",
     "text": [
      "Epoch 1/15\n",
      "2742/2742 [==============================] - 111s 40ms/step - loss: 0.6772 - accuracy: 0.7183 - val_loss: 0.5467 - val_accuracy: 0.7886\n",
      "Epoch 2/15\n",
      "2742/2742 [==============================] - 113s 41ms/step - loss: 0.5428 - accuracy: 0.7914 - val_loss: 0.4820 - val_accuracy: 0.8180\n",
      "Epoch 3/15\n",
      "2742/2742 [==============================] - 113s 41ms/step - loss: 0.4934 - accuracy: 0.8162 - val_loss: 0.4647 - val_accuracy: 0.8287\n",
      "Epoch 4/15\n",
      "2742/2742 [==============================] - 113s 41ms/step - loss: 0.4662 - accuracy: 0.8287 - val_loss: 0.4410 - val_accuracy: 0.8379\n",
      "Epoch 5/15\n",
      "2742/2742 [==============================] - 113s 41ms/step - loss: 0.4478 - accuracy: 0.8387 - val_loss: 0.4297 - val_accuracy: 0.8422\n",
      "Epoch 6/15\n",
      "2742/2742 [==============================] - 114s 41ms/step - loss: 0.4332 - accuracy: 0.8456 - val_loss: 0.4269 - val_accuracy: 0.8430\n",
      "Epoch 7/15\n",
      "2742/2742 [==============================] - 115s 42ms/step - loss: 0.4229 - accuracy: 0.8492 - val_loss: 0.4263 - val_accuracy: 0.8448\n",
      "Epoch 8/15\n",
      "2742/2742 [==============================] - 129s 47ms/step - loss: 0.4150 - accuracy: 0.8528 - val_loss: 0.4128 - val_accuracy: 0.8510\n",
      "Epoch 9/15\n",
      "2742/2742 [==============================] - 125s 45ms/step - loss: 0.4061 - accuracy: 0.8573 - val_loss: 0.4105 - val_accuracy: 0.8536\n",
      "Epoch 10/15\n",
      "2742/2742 [==============================] - 133s 48ms/step - loss: 0.3998 - accuracy: 0.8589 - val_loss: 0.4042 - val_accuracy: 0.8560\n",
      "Epoch 11/15\n",
      "2742/2742 [==============================] - 136s 50ms/step - loss: 0.3935 - accuracy: 0.8618 - val_loss: 0.3993 - val_accuracy: 0.8563\n",
      "Epoch 12/15\n",
      "2742/2742 [==============================] - 136s 49ms/step - loss: 0.3881 - accuracy: 0.8644 - val_loss: 0.3997 - val_accuracy: 0.8594\n",
      "Epoch 13/15\n",
      "2742/2742 [==============================] - 139s 51ms/step - loss: 0.3836 - accuracy: 0.8669 - val_loss: 0.3933 - val_accuracy: 0.8613\n",
      "Epoch 14/15\n",
      "2742/2742 [==============================] - 140s 51ms/step - loss: 0.3784 - accuracy: 0.8683 - val_loss: 0.3992 - val_accuracy: 0.8577\n",
      "Epoch 15/15\n",
      "2742/2742 [==============================] - 125s 46ms/step - loss: 0.3748 - accuracy: 0.8698 - val_loss: 0.3957 - val_accuracy: 0.8610\n"
     ]
    }
   ],
   "source": [
    "#Train model3\n",
    "hist3= model3.fit(train_tweets, train_labels, epochs=15, batch_size=64,\n",
    "                    validation_data=(test_tweets, test_labels))"
   ]
  },
  {
   "cell_type": "code",
   "execution_count": 53,
   "id": "f2e4a6c9",
   "metadata": {},
   "outputs": [
    {
     "name": "stdout",
     "output_type": "stream",
     "text": [
      "1371/1371 [==============================] - 8s 6ms/step - loss: 0.3957 - accuracy: 0.8610\n",
      "Test accuracy: 0.8609863519668579\n"
     ]
    }
   ],
   "source": [
    "# Evaluate model3\n",
    "test_loss3, test_acc3 = model3.evaluate(test_tweets, test_labels)\n",
    "print('Test accuracy:', test_acc3)\n",
    "\n",
    "results.append(test_acc3)\n",
    "model3.save('model3_cnn_nlp.h5')"
   ]
  },
  {
   "cell_type": "code",
   "execution_count": 57,
   "id": "c9f13fb2",
   "metadata": {},
   "outputs": [
    {
     "data": {
      "text/plain": [
       "[0.8090927600860596, 0.8098223805427551, 0.8609863519668579]"
      ]
     },
     "execution_count": 57,
     "metadata": {},
     "output_type": "execute_result"
    }
   ],
   "source": [
    "results=[]\n",
    "results.append(test_acc1)\n",
    "results.append(test_acc2)\n",
    "results.append(test_acc3)"
   ]
  },
  {
   "cell_type": "markdown",
   "id": "64cdbc83",
   "metadata": {},
   "source": [
    "# 4th Trial"
   ]
  },
  {
   "cell_type": "code",
   "execution_count": 67,
   "id": "32d6ecf7",
   "metadata": {},
   "outputs": [
    {
     "name": "stdout",
     "output_type": "stream",
     "text": [
      "Model: \"sequential_19\"\n",
      "_________________________________________________________________\n",
      " Layer (type)                Output Shape              Param #   \n",
      "=================================================================\n",
      " embedding (Embedding)       (None, 100, 100)          9279300   \n",
      "                                                                 \n",
      " conv1d_43 (Conv1D)          (None, 100, 64)           19264     \n",
      "                                                                 \n",
      " conv1d_44 (Conv1D)          (None, 100, 64)           12352     \n",
      "                                                                 \n",
      " dropout_10 (Dropout)        (None, 100, 64)           0         \n",
      "                                                                 \n",
      " conv1d_45 (Conv1D)          (None, 100, 128)          24704     \n",
      "                                                                 \n",
      " global_max_pooling1d_13 (Gl  (None, 128)              0         \n",
      " obalMaxPooling1D)                                               \n",
      "                                                                 \n",
      " dense_5 (Dense)             (None, 3)                 387       \n",
      "                                                                 \n",
      "=================================================================\n",
      "Total params: 9,336,007\n",
      "Trainable params: 56,707\n",
      "Non-trainable params: 9,279,300\n",
      "_________________________________________________________________\n"
     ]
    }
   ],
   "source": [
    "model4 = Sequential()\n",
    "model4.add(embedding_layer)\n",
    "model4.add(Conv1D(filters=64, kernel_size=3, padding='same', activation='relu'))\n",
    "model4.add(Conv1D(filters=64, kernel_size=3, padding='same', activation='relu'))\n",
    "model4.add(Dropout(0.25))\n",
    "model4.add(Conv1D(filters=128, kernel_size=3, padding='same', activation='relu'))\n",
    "model4.add(GlobalMaxPooling1D())\n",
    "model4.add(Dense(3, activation='softmax'))\n",
    "\n",
    "model4.compile(optimizer='adam', loss='categorical_crossentropy', metrics=['accuracy'])\n",
    "model4.summary()"
   ]
  },
  {
   "cell_type": "code",
   "execution_count": 68,
   "id": "4ea9a862",
   "metadata": {},
   "outputs": [
    {
     "name": "stdout",
     "output_type": "stream",
     "text": [
      "Epoch 1/10\n",
      "1371/1371 [==============================] - 73s 53ms/step - loss: 0.6589 - accuracy: 0.7206 - val_loss: 0.5562 - val_accuracy: 0.7769\n",
      "Epoch 2/10\n",
      "1371/1371 [==============================] - 71s 51ms/step - loss: 0.5164 - accuracy: 0.7972 - val_loss: 0.4881 - val_accuracy: 0.8121\n",
      "Epoch 3/10\n",
      "1371/1371 [==============================] - 79s 58ms/step - loss: 0.4649 - accuracy: 0.8237 - val_loss: 0.4631 - val_accuracy: 0.8280\n",
      "Epoch 4/10\n",
      "1371/1371 [==============================] - 83s 60ms/step - loss: 0.4312 - accuracy: 0.8395 - val_loss: 0.4452 - val_accuracy: 0.8364\n",
      "Epoch 5/10\n",
      "1371/1371 [==============================] - 80s 58ms/step - loss: 0.4081 - accuracy: 0.8500 - val_loss: 0.4456 - val_accuracy: 0.8361\n",
      "Epoch 6/10\n",
      "1371/1371 [==============================] - 80s 58ms/step - loss: 0.3928 - accuracy: 0.8578 - val_loss: 0.4230 - val_accuracy: 0.8491\n",
      "Epoch 7/10\n",
      "1371/1371 [==============================] - 82s 60ms/step - loss: 0.3789 - accuracy: 0.8633 - val_loss: 0.4252 - val_accuracy: 0.8420\n",
      "Epoch 8/10\n",
      "1371/1371 [==============================] - 83s 61ms/step - loss: 0.3693 - accuracy: 0.8678 - val_loss: 0.4377 - val_accuracy: 0.8388\n",
      "Epoch 9/10\n",
      "1371/1371 [==============================] - 82s 60ms/step - loss: 0.3591 - accuracy: 0.8723 - val_loss: 0.4154 - val_accuracy: 0.8520\n",
      "Epoch 10/10\n",
      "1371/1371 [==============================] - 79s 58ms/step - loss: 0.3525 - accuracy: 0.8748 - val_loss: 0.4369 - val_accuracy: 0.8407\n"
     ]
    }
   ],
   "source": [
    "#Train model4\n",
    "hist4= model4.fit(train_tweets, train_labels, epochs=10, batch_size=128,\n",
    "                    validation_data=(test_tweets, test_labels))"
   ]
  },
  {
   "cell_type": "code",
   "execution_count": 69,
   "id": "214488d8",
   "metadata": {},
   "outputs": [
    {
     "name": "stdout",
     "output_type": "stream",
     "text": [
      "1371/1371 [==============================] - 5s 4ms/step - loss: 0.4369 - accuracy: 0.8407\n",
      "Test accuracy: 0.8407168388366699\n"
     ]
    }
   ],
   "source": [
    "# Evaluate model4\n",
    "test_loss4, test_acc4 = model4.evaluate(test_tweets, test_labels)\n",
    "print('Test accuracy:', test_acc4)\n",
    "\n",
    "results.append(test_acc4)\n",
    "model4.save('model4_cnn_nlp.h5')"
   ]
  },
  {
   "cell_type": "markdown",
   "id": "b05a7cf6",
   "metadata": {},
   "source": [
    "# 5th Trial"
   ]
  },
  {
   "cell_type": "code",
   "execution_count": 84,
   "id": "6b2a34d4",
   "metadata": {},
   "outputs": [
    {
     "name": "stdout",
     "output_type": "stream",
     "text": [
      "Model: \"sequential_25\"\n",
      "_________________________________________________________________\n",
      " Layer (type)                Output Shape              Param #   \n",
      "=================================================================\n",
      " embedding_1 (Embedding)     (None, 100, 200)          18558600  \n",
      "                                                                 \n",
      " conv1d_56 (Conv1D)          (None, 100, 64)           38464     \n",
      "                                                                 \n",
      " conv1d_57 (Conv1D)          (None, 100, 64)           12352     \n",
      "                                                                 \n",
      " dropout_17 (Dropout)        (None, 100, 64)           0         \n",
      "                                                                 \n",
      " conv1d_58 (Conv1D)          (None, 100, 128)          24704     \n",
      "                                                                 \n",
      " global_max_pooling1d_19 (Gl  (None, 128)              0         \n",
      " obalMaxPooling1D)                                               \n",
      "                                                                 \n",
      " dropout_18 (Dropout)        (None, 128)               0         \n",
      "                                                                 \n",
      " dense_11 (Dense)            (None, 3)                 387       \n",
      "                                                                 \n",
      "=================================================================\n",
      "Total params: 18,634,507\n",
      "Trainable params: 75,907\n",
      "Non-trainable params: 18,558,600\n",
      "_________________________________________________________________\n"
     ]
    }
   ],
   "source": [
    "model5 = Sequential()\n",
    "model5.add(embedding_layer)\n",
    "\n",
    "model5.add(Conv1D(filters=64, kernel_size=3, padding='same', activation='relu'))\n",
    "model5.add(Conv1D(filters=64, kernel_size=3, padding='same', activation='relu'))\n",
    "model5.add(Dropout(0.2))\n",
    "model5.add(Conv1D(filters=128, kernel_size=3, padding='same', activation='relu'))\n",
    "model5.add(GlobalMaxPooling1D())\n",
    "model5.add(Dropout(0.5))\n",
    "\n",
    "model5.add(Dense(3, activation='softmax'))\n",
    "\n",
    "model5.compile(optimizer='adam', loss='categorical_crossentropy', metrics=['accuracy'])\n",
    "model5.summary()"
   ]
  },
  {
   "cell_type": "code",
   "execution_count": 86,
   "id": "d8292863",
   "metadata": {},
   "outputs": [
    {
     "name": "stdout",
     "output_type": "stream",
     "text": [
      "Epoch 1/10\n",
      "1371/1371 [==============================] - 79s 58ms/step - loss: 0.6144 - accuracy: 0.7540 - val_loss: 0.5224 - val_accuracy: 0.8038\n",
      "Epoch 2/10\n",
      "1371/1371 [==============================] - 81s 59ms/step - loss: 0.5197 - accuracy: 0.8031 - val_loss: 0.4824 - val_accuracy: 0.8223\n",
      "Epoch 3/10\n",
      "1371/1371 [==============================] - 81s 59ms/step - loss: 0.4795 - accuracy: 0.8225 - val_loss: 0.4681 - val_accuracy: 0.8254\n",
      "Epoch 4/10\n",
      "1371/1371 [==============================] - 82s 60ms/step - loss: 0.4541 - accuracy: 0.8326 - val_loss: 0.4570 - val_accuracy: 0.8313\n",
      "Epoch 5/10\n",
      "1371/1371 [==============================] - 83s 60ms/step - loss: 0.4347 - accuracy: 0.8418 - val_loss: 0.4420 - val_accuracy: 0.8408\n",
      "Epoch 6/10\n",
      "1371/1371 [==============================] - 85s 62ms/step - loss: 0.4201 - accuracy: 0.8481 - val_loss: 0.4572 - val_accuracy: 0.8289\n",
      "Epoch 7/10\n",
      "1371/1371 [==============================] - 86s 63ms/step - loss: 0.4077 - accuracy: 0.8532 - val_loss: 0.4391 - val_accuracy: 0.8440\n",
      "Epoch 8/10\n",
      "1371/1371 [==============================] - 86s 63ms/step - loss: 0.3986 - accuracy: 0.8564 - val_loss: 0.4366 - val_accuracy: 0.8417\n",
      "Epoch 9/10\n",
      "1371/1371 [==============================] - 84s 61ms/step - loss: 0.3902 - accuracy: 0.8612 - val_loss: 0.4317 - val_accuracy: 0.8429\n",
      "Epoch 10/10\n",
      "1371/1371 [==============================] - 85s 62ms/step - loss: 0.3811 - accuracy: 0.8645 - val_loss: 0.4359 - val_accuracy: 0.8418\n"
     ]
    }
   ],
   "source": [
    "#Train model5\n",
    "hist5= model5.fit(train_tweets, train_labels, epochs=10, batch_size=128,\n",
    "                    validation_data=(test_tweets, test_labels))"
   ]
  },
  {
   "cell_type": "code",
   "execution_count": 87,
   "id": "85cbb93b",
   "metadata": {},
   "outputs": [
    {
     "name": "stdout",
     "output_type": "stream",
     "text": [
      "343/343 [==============================] - 5s 14ms/step - loss: 0.4359 - accuracy: 0.8418\n",
      "Test accuracy: 0.8417884707450867\n"
     ]
    }
   ],
   "source": [
    "# Evaluate model5\n",
    "test_loss5, test_acc5 = model5.evaluate(test_tweets, test_labels,batch_size=128)\n",
    "print('Test accuracy:', test_acc5)\n",
    "\n",
    "results.append(test_acc5)\n",
    "model5.save('model5_cnn_nlp.h5')"
   ]
  },
  {
   "cell_type": "markdown",
   "id": "cae95960",
   "metadata": {},
   "source": [
    "# 6th Trial"
   ]
  },
  {
   "cell_type": "code",
   "execution_count": 97,
   "id": "c5379689",
   "metadata": {},
   "outputs": [],
   "source": [
    "#model 6\n",
    "model6 = tf.keras.Sequential([\n",
    "    \n",
    "    # Embedding layer\n",
    "    embedding_layer,\n",
    "    \n",
    "    # Convolutional layers\n",
    "    Conv1D(64, 5, activation='relu'),\n",
    "    Conv1D(128, 5, activation='relu'),\n",
    "    MaxPooling1D(pool_size=2),\n",
    "    Dropout(0.25),\n",
    "    Conv1D(128, 5, activation='relu'),\n",
    "    MaxPooling1D(pool_size=2),\n",
    "    Conv1D(128, 5, activation='relu'),\n",
    "    GlobalMaxPooling1D(),\n",
    "    \n",
    "    # Dense layers\n",
    "    Dense(128, activation='relu'),\n",
    "    Dropout(0.5),\n",
    "    Dense(3, activation='softmax')\n",
    "])"
   ]
  },
  {
   "cell_type": "code",
   "execution_count": 98,
   "id": "155840bc",
   "metadata": {},
   "outputs": [
    {
     "name": "stdout",
     "output_type": "stream",
     "text": [
      "Model: \"sequential_29\"\n",
      "_________________________________________________________________\n",
      " Layer (type)                Output Shape              Param #   \n",
      "=================================================================\n",
      " embedding_2 (Embedding)     (None, 100, 100)          9279300   \n",
      "                                                                 \n",
      " conv1d_66 (Conv1D)          (None, 96, 64)            32064     \n",
      "                                                                 \n",
      " conv1d_67 (Conv1D)          (None, 92, 128)           41088     \n",
      "                                                                 \n",
      " max_pooling1d_10 (MaxPoolin  (None, 46, 128)          0         \n",
      " g1D)                                                            \n",
      "                                                                 \n",
      " dropout_22 (Dropout)        (None, 46, 128)           0         \n",
      "                                                                 \n",
      " conv1d_68 (Conv1D)          (None, 42, 128)           82048     \n",
      "                                                                 \n",
      " max_pooling1d_11 (MaxPoolin  (None, 21, 128)          0         \n",
      " g1D)                                                            \n",
      "                                                                 \n",
      " conv1d_69 (Conv1D)          (None, 17, 128)           82048     \n",
      "                                                                 \n",
      " global_max_pooling1d_23 (Gl  (None, 128)              0         \n",
      " obalMaxPooling1D)                                               \n",
      "                                                                 \n",
      " dense_18 (Dense)            (None, 128)               16512     \n",
      "                                                                 \n",
      " dropout_23 (Dropout)        (None, 128)               0         \n",
      "                                                                 \n",
      " dense_19 (Dense)            (None, 3)                 387       \n",
      "                                                                 \n",
      "=================================================================\n",
      "Total params: 9,533,447\n",
      "Trainable params: 254,147\n",
      "Non-trainable params: 9,279,300\n",
      "_________________________________________________________________\n"
     ]
    }
   ],
   "source": [
    "model6.compile(optimizer='adam', loss='categorical_crossentropy', metrics=['accuracy'])\n",
    "model6.summary()"
   ]
  },
  {
   "cell_type": "code",
   "execution_count": 100,
   "id": "17a6fc35",
   "metadata": {},
   "outputs": [
    {
     "name": "stdout",
     "output_type": "stream",
     "text": [
      "Epoch 1/10\n",
      "2742/2742 [==============================] - 116s 42ms/step - loss: 0.6257 - accuracy: 0.7464 - val_loss: 0.5118 - val_accuracy: 0.8001\n",
      "Epoch 2/10\n",
      "2742/2742 [==============================] - 118s 43ms/step - loss: 0.5028 - accuracy: 0.8110 - val_loss: 0.4640 - val_accuracy: 0.8238\n",
      "Epoch 3/10\n",
      "2742/2742 [==============================] - 118s 43ms/step - loss: 0.4520 - accuracy: 0.8352 - val_loss: 0.4388 - val_accuracy: 0.8378\n",
      "Epoch 4/10\n",
      "2742/2742 [==============================] - 119s 43ms/step - loss: 0.4231 - accuracy: 0.8497 - val_loss: 0.4211 - val_accuracy: 0.8456\n",
      "Epoch 5/10\n",
      "2742/2742 [==============================] - 119s 43ms/step - loss: 0.4001 - accuracy: 0.8592 - val_loss: 0.4158 - val_accuracy: 0.8485\n",
      "Epoch 6/10\n",
      "2742/2742 [==============================] - 119s 43ms/step - loss: 0.3847 - accuracy: 0.8664 - val_loss: 0.4132 - val_accuracy: 0.8497\n",
      "Epoch 7/10\n",
      "2742/2742 [==============================] - 118s 43ms/step - loss: 0.3718 - accuracy: 0.8714 - val_loss: 0.4166 - val_accuracy: 0.8499\n",
      "Epoch 8/10\n",
      "2742/2742 [==============================] - 119s 43ms/step - loss: 0.3589 - accuracy: 0.8756 - val_loss: 0.4102 - val_accuracy: 0.8538\n",
      "Epoch 9/10\n",
      "2742/2742 [==============================] - 119s 43ms/step - loss: 0.3485 - accuracy: 0.8794 - val_loss: 0.4095 - val_accuracy: 0.8539\n",
      "Epoch 10/10\n",
      "2742/2742 [==============================] - 119s 43ms/step - loss: 0.3400 - accuracy: 0.8833 - val_loss: 0.4179 - val_accuracy: 0.8504\n"
     ]
    }
   ],
   "source": [
    "#Train model6\n",
    "hist6= model6.fit(train_tweets, train_labels, epochs=10, batch_size=64,\n",
    "                    validation_data=(test_tweets, test_labels))"
   ]
  },
  {
   "cell_type": "code",
   "execution_count": 101,
   "id": "6e353635",
   "metadata": {},
   "outputs": [
    {
     "name": "stdout",
     "output_type": "stream",
     "text": [
      "1371/1371 [==============================] - 10s 7ms/step - loss: 0.4179 - accuracy: 0.8504\n",
      "Test accuracy: 0.8504070043563843\n"
     ]
    }
   ],
   "source": [
    "# Evaluate model6\n",
    "test_loss6, test_acc6 = model6.evaluate(test_tweets, test_labels)\n",
    "print('Test accuracy:', test_acc6)\n",
    "\n",
    "results.append(test_acc6)\n",
    "model6.save('model6_cnn_nlp.h5')"
   ]
  },
  {
   "cell_type": "markdown",
   "id": "a800f6d8",
   "metadata": {},
   "source": [
    "# 7th Trial"
   ]
  },
  {
   "cell_type": "code",
   "execution_count": 102,
   "id": "cd3db282",
   "metadata": {},
   "outputs": [],
   "source": [
    "#model 7\n",
    "model7 = tf.keras.Sequential([\n",
    "    \n",
    "    # Embedding layer\n",
    "    embedding_layer,\n",
    "    \n",
    "    # Convolutional layers\n",
    "    Conv1D(64, 5, activation='relu'),\n",
    "    Conv1D(128, 5, activation='relu'),\n",
    "    MaxPooling1D(pool_size=2),\n",
    "    Dropout(0.25),\n",
    "    Conv1D(128, 5, activation='relu'),\n",
    "    MaxPooling1D(pool_size=2),\n",
    "    Conv1D(128, 5, activation='relu'),\n",
    "    GlobalMaxPooling1D(),\n",
    "    \n",
    "    # Dense layers\n",
    "    Dense(128, activation='relu'),\n",
    "    Dropout(0.25),\n",
    "    Dense(3, activation='softmax')\n",
    "])"
   ]
  },
  {
   "cell_type": "code",
   "execution_count": 103,
   "id": "565a4d6c",
   "metadata": {},
   "outputs": [
    {
     "name": "stdout",
     "output_type": "stream",
     "text": [
      "Model: \"sequential_30\"\n",
      "_________________________________________________________________\n",
      " Layer (type)                Output Shape              Param #   \n",
      "=================================================================\n",
      " embedding_2 (Embedding)     (None, 100, 100)          9279300   \n",
      "                                                                 \n",
      " conv1d_70 (Conv1D)          (None, 96, 64)            32064     \n",
      "                                                                 \n",
      " conv1d_71 (Conv1D)          (None, 92, 128)           41088     \n",
      "                                                                 \n",
      " max_pooling1d_12 (MaxPoolin  (None, 46, 128)          0         \n",
      " g1D)                                                            \n",
      "                                                                 \n",
      " dropout_24 (Dropout)        (None, 46, 128)           0         \n",
      "                                                                 \n",
      " conv1d_72 (Conv1D)          (None, 42, 128)           82048     \n",
      "                                                                 \n",
      " max_pooling1d_13 (MaxPoolin  (None, 21, 128)          0         \n",
      " g1D)                                                            \n",
      "                                                                 \n",
      " conv1d_73 (Conv1D)          (None, 17, 128)           82048     \n",
      "                                                                 \n",
      " global_max_pooling1d_24 (Gl  (None, 128)              0         \n",
      " obalMaxPooling1D)                                               \n",
      "                                                                 \n",
      " dense_20 (Dense)            (None, 128)               16512     \n",
      "                                                                 \n",
      " dropout_25 (Dropout)        (None, 128)               0         \n",
      "                                                                 \n",
      " dense_21 (Dense)            (None, 3)                 387       \n",
      "                                                                 \n",
      "=================================================================\n",
      "Total params: 9,533,447\n",
      "Trainable params: 254,147\n",
      "Non-trainable params: 9,279,300\n",
      "_________________________________________________________________\n"
     ]
    }
   ],
   "source": [
    "model7.compile(optimizer='adam', loss='categorical_crossentropy', metrics=['accuracy'])\n",
    "model7.summary()"
   ]
  },
  {
   "cell_type": "code",
   "execution_count": 104,
   "id": "a04f0226",
   "metadata": {},
   "outputs": [
    {
     "name": "stdout",
     "output_type": "stream",
     "text": [
      "Epoch 1/15\n",
      "2742/2742 [==============================] - 112s 40ms/step - loss: 0.6529 - accuracy: 0.7266 - val_loss: 0.5402 - val_accuracy: 0.7896\n",
      "Epoch 2/15\n",
      "2742/2742 [==============================] - 116s 42ms/step - loss: 0.4988 - accuracy: 0.8094 - val_loss: 0.4699 - val_accuracy: 0.8228\n",
      "Epoch 3/15\n",
      "2742/2742 [==============================] - 116s 42ms/step - loss: 0.4425 - accuracy: 0.8364 - val_loss: 0.4388 - val_accuracy: 0.8390\n",
      "Epoch 4/15\n",
      "2742/2742 [==============================] - 117s 43ms/step - loss: 0.4101 - accuracy: 0.8519 - val_loss: 0.4184 - val_accuracy: 0.8483\n",
      "Epoch 5/15\n",
      "2742/2742 [==============================] - 117s 43ms/step - loss: 0.3883 - accuracy: 0.8620 - val_loss: 0.4159 - val_accuracy: 0.8490\n",
      "Epoch 6/15\n",
      "2742/2742 [==============================] - 121s 44ms/step - loss: 0.3710 - accuracy: 0.8690 - val_loss: 0.4041 - val_accuracy: 0.8574\n",
      "Epoch 7/15\n",
      "2742/2742 [==============================] - 118s 43ms/step - loss: 0.3549 - accuracy: 0.8764 - val_loss: 0.4064 - val_accuracy: 0.8550\n",
      "Epoch 8/15\n",
      "2742/2742 [==============================] - 118s 43ms/step - loss: 0.3438 - accuracy: 0.8810 - val_loss: 0.4026 - val_accuracy: 0.8566\n",
      "Epoch 9/15\n",
      "2742/2742 [==============================] - 118s 43ms/step - loss: 0.3321 - accuracy: 0.8851 - val_loss: 0.4027 - val_accuracy: 0.8577\n",
      "Epoch 10/15\n",
      "2742/2742 [==============================] - 118s 43ms/step - loss: 0.3242 - accuracy: 0.8888 - val_loss: 0.4034 - val_accuracy: 0.8575\n",
      "Epoch 11/15\n",
      "2742/2742 [==============================] - 118s 43ms/step - loss: 0.3139 - accuracy: 0.8916 - val_loss: 0.4140 - val_accuracy: 0.8586\n",
      "Epoch 12/15\n",
      "2742/2742 [==============================] - 118s 43ms/step - loss: 0.3045 - accuracy: 0.8950 - val_loss: 0.4142 - val_accuracy: 0.8538\n",
      "Epoch 13/15\n",
      "2742/2742 [==============================] - 119s 43ms/step - loss: 0.2984 - accuracy: 0.8980 - val_loss: 0.4114 - val_accuracy: 0.8555\n",
      "Epoch 14/15\n",
      "2742/2742 [==============================] - 119s 43ms/step - loss: 0.2906 - accuracy: 0.9002 - val_loss: 0.4162 - val_accuracy: 0.8575\n",
      "Epoch 15/15\n",
      "2742/2742 [==============================] - 118s 43ms/step - loss: 0.2854 - accuracy: 0.9025 - val_loss: 0.4200 - val_accuracy: 0.8578\n"
     ]
    }
   ],
   "source": [
    "#Train model7\n",
    "hist7 = model7.fit(train_tweets, train_labels, epochs=15, batch_size=32,\n",
    "                    validation_data=(test_tweets, test_labels))"
   ]
  },
  {
   "cell_type": "code",
   "execution_count": 106,
   "id": "806b44b4",
   "metadata": {},
   "outputs": [
    {
     "name": "stdout",
     "output_type": "stream",
     "text": [
      "1371/1371 [==============================] - 8s 6ms/step - loss: 0.4200 - accuracy: 0.8578\n",
      "Test accuracy: 0.8577942848205566\n"
     ]
    }
   ],
   "source": [
    "# Evaluate model7\n",
    "test_loss7, test_acc7 = model7.evaluate(test_tweets, test_labels)\n",
    "print('Test accuracy:', test_acc7)\n",
    "\n",
    "results.append(test_acc7)\n",
    "model7.save('model7_cnn_nlp.h5')"
   ]
  },
  {
   "cell_type": "markdown",
   "id": "825312f6",
   "metadata": {},
   "source": [
    "# 8th Trial"
   ]
  },
  {
   "cell_type": "code",
   "execution_count": 107,
   "id": "662a6412",
   "metadata": {},
   "outputs": [],
   "source": [
    "#model 8\n",
    "model8 = tf.keras.Sequential([\n",
    "    \n",
    "    # Embedding layer\n",
    "    embedding_layer,\n",
    "    \n",
    "    # Convolutional layers\n",
    "    Conv1D(64, 5, activation='relu'),\n",
    "    Dropout(0.25),\n",
    "    Conv1D(128, 5, activation='relu'),\n",
    "    MaxPooling1D(pool_size=2),\n",
    "    Dropout(0.25),\n",
    "    Conv1D(128, 5, activation='relu'),\n",
    "    MaxPooling1D(pool_size=2),\n",
    "    Conv1D(128, 5, activation='relu'),\n",
    "    GlobalMaxPooling1D(),\n",
    "    \n",
    "    # Dense layers\n",
    "    Dense(128, activation='relu'),\n",
    "    Dropout(0.25),\n",
    "    Dense(3, activation='softmax')\n",
    "])"
   ]
  },
  {
   "cell_type": "code",
   "execution_count": 108,
   "id": "a5fbdde8",
   "metadata": {},
   "outputs": [
    {
     "name": "stdout",
     "output_type": "stream",
     "text": [
      "Model: \"sequential_31\"\n",
      "_________________________________________________________________\n",
      " Layer (type)                Output Shape              Param #   \n",
      "=================================================================\n",
      " embedding_2 (Embedding)     (None, 100, 100)          9279300   \n",
      "                                                                 \n",
      " conv1d_74 (Conv1D)          (None, 96, 64)            32064     \n",
      "                                                                 \n",
      " dropout_26 (Dropout)        (None, 96, 64)            0         \n",
      "                                                                 \n",
      " conv1d_75 (Conv1D)          (None, 92, 128)           41088     \n",
      "                                                                 \n",
      " max_pooling1d_14 (MaxPoolin  (None, 46, 128)          0         \n",
      " g1D)                                                            \n",
      "                                                                 \n",
      " dropout_27 (Dropout)        (None, 46, 128)           0         \n",
      "                                                                 \n",
      " conv1d_76 (Conv1D)          (None, 42, 128)           82048     \n",
      "                                                                 \n",
      " max_pooling1d_15 (MaxPoolin  (None, 21, 128)          0         \n",
      " g1D)                                                            \n",
      "                                                                 \n",
      " conv1d_77 (Conv1D)          (None, 17, 128)           82048     \n",
      "                                                                 \n",
      " global_max_pooling1d_25 (Gl  (None, 128)              0         \n",
      " obalMaxPooling1D)                                               \n",
      "                                                                 \n",
      " dense_22 (Dense)            (None, 128)               16512     \n",
      "                                                                 \n",
      " dropout_28 (Dropout)        (None, 128)               0         \n",
      "                                                                 \n",
      " dense_23 (Dense)            (None, 3)                 387       \n",
      "                                                                 \n",
      "=================================================================\n",
      "Total params: 9,533,447\n",
      "Trainable params: 254,147\n",
      "Non-trainable params: 9,279,300\n",
      "_________________________________________________________________\n"
     ]
    }
   ],
   "source": [
    "model8.compile(optimizer='adam', loss='categorical_crossentropy', metrics=['accuracy'])\n",
    "model8.summary()"
   ]
  },
  {
   "cell_type": "code",
   "execution_count": 110,
   "id": "893728d5",
   "metadata": {},
   "outputs": [
    {
     "name": "stdout",
     "output_type": "stream",
     "text": [
      "Epoch 1/5\n",
      "686/686 [==============================] - 116s 170ms/step - loss: 0.3859 - accuracy: 0.8631 - val_loss: 0.3955 - val_accuracy: 0.8589\n",
      "Epoch 2/5\n",
      "686/686 [==============================] - 125s 182ms/step - loss: 0.3754 - accuracy: 0.8681 - val_loss: 0.3859 - val_accuracy: 0.8643\n",
      "Epoch 3/5\n",
      "686/686 [==============================] - 126s 183ms/step - loss: 0.3717 - accuracy: 0.8691 - val_loss: 0.3866 - val_accuracy: 0.8624\n",
      "Epoch 4/5\n",
      "686/686 [==============================] - 125s 182ms/step - loss: 0.3679 - accuracy: 0.8717 - val_loss: 0.3841 - val_accuracy: 0.8647\n",
      "Epoch 5/5\n",
      "686/686 [==============================] - 131s 191ms/step - loss: 0.3640 - accuracy: 0.8724 - val_loss: 0.3814 - val_accuracy: 0.8659\n"
     ]
    }
   ],
   "source": [
    "#Train model8\n",
    "hist8 = model8.fit(train_tweets, train_labels, epochs=5, batch_size=256,\n",
    "                    validation_data=(test_tweets, test_labels))"
   ]
  },
  {
   "cell_type": "code",
   "execution_count": 111,
   "id": "f042a30c",
   "metadata": {},
   "outputs": [
    {
     "name": "stdout",
     "output_type": "stream",
     "text": [
      "1371/1371 [==============================] - 9s 7ms/step - loss: 0.3814 - accuracy: 0.8659\n",
      "Test accuracy: 0.8659340143203735\n"
     ]
    }
   ],
   "source": [
    "# Evaluate model8\n",
    "test_loss8, test_acc8 = model8.evaluate(test_tweets, test_labels)\n",
    "print('Test accuracy:', test_acc8)\n",
    "\n",
    "results.append(test_acc8)\n",
    "model8.save('model8_cnn_nlp.h5')"
   ]
  },
  {
   "cell_type": "code",
   "execution_count": 129,
   "id": "e6cbbb8e",
   "metadata": {},
   "outputs": [
    {
     "name": "stdout",
     "output_type": "stream",
     "text": [
      "[0.8090927600860596, 0.8098223805427551, 0.8609863519668579, 0.8407168388366699, 0.8417884707450867, 0.8504070043563843, 0.8577942848205566, 0.8577942848205566, 0.8659340143203735]\n"
     ]
    }
   ],
   "source": [
    "print(results)\n"
   ]
  },
  {
   "cell_type": "code",
   "execution_count": 155,
   "id": "28676201",
   "metadata": {},
   "outputs": [],
   "source": [
    "#best trials\n",
    "accuracies=[]\n",
    "accuracies.append(test_acc1)\n",
    "accuracies.append(test_acc4)\n",
    "accuracies.append(test_acc6)\n",
    "accuracies.append(test_acc7)\n",
    "accuracies.append(test_acc8)"
   ]
  },
  {
   "cell_type": "code",
   "execution_count": 156,
   "id": "cbb44c73",
   "metadata": {},
   "outputs": [
    {
     "name": "stdout",
     "output_type": "stream",
     "text": [
      "[0.8090927600860596, 0.8407168388366699, 0.8504070043563843, 0.8577942848205566, 0.8659340143203735]\n"
     ]
    }
   ],
   "source": [
    "print(accuracies)"
   ]
  },
  {
   "cell_type": "code",
   "execution_count": 160,
   "id": "5b0a17a0",
   "metadata": {},
   "outputs": [
    {
     "data": {
      "image/png": "[encoded data removed]",
      "text/plain": [
       "<Figure size 640x480 with 1 Axes>"
      ]
     },
     "metadata": {},
     "output_type": "display_data"
    }
   ],
   "source": [
    "import matplotlib.pyplot as plt\n",
    "\n",
    "# Replace these with your actual trials and corresponding accuracies\n",
    "trials = [\"trial1\", \"trial2\", \"trial3\", \"trial4\", \"trial5\"]\n",
    "\n",
    "# Create a bar plot of the accuracies with the trials on the x-axis\n",
    "plt.bar(trials, accuracies)\n",
    "\n",
    "# Add labels and a title to the plot\n",
    "plt.xlabel('Trials')\n",
    "plt.ylabel('Accuracy')\n",
    "plt.ylim(0.7, 1.0)\n",
    "plt.title('CNN Accuracies by Trials')\n",
    "\n",
    "# Display the plot\n",
    "plt.show()"
   ]
  },
  {
   "cell_type": "code",
   "execution_count": 163,
   "id": "884c5408",
   "metadata": {},
   "outputs": [
    {
     "name": "stdout",
     "output_type": "stream",
     "text": [
      "Enter your new tweet: No no gpt is very danger to people :(, you should stop using it bro!! take care\n"
     ]
    }
   ],
   "source": [
    "user_tweet = input('Enter your new tweet: ')\n",
    "\n",
    "#Apply Preprocessing to clean input and pass to model to predict\n",
    "user_tweet = preprocess_text(user_tweet)\n",
    "user_tweet = lemmatize(user_tweet)\n",
    "input_sequences = tokenizer.texts_to_sequences([user_tweet])\n",
    "user_tweet = pad_sequences(input_sequences, maxlen=max_len)"
   ]
  },
  {
   "cell_type": "code",
   "execution_count": 164,
   "id": "8c62d389",
   "metadata": {},
   "outputs": [
    {
     "name": "stdout",
     "output_type": "stream",
     "text": [
      "1/1 [==============================] - 0s 86ms/step\n",
      "[0.60095525 0.06257142 0.33647332]\n",
      "Tweet is Negative\n"
     ]
    }
   ],
   "source": [
    "from keras.models import load_model\n",
    "saved_model = load_model(\"model8_cnn_nlp.h5\")\n",
    "\n",
    "output = saved_model.predict(user_tweet)\n",
    "\n",
    "print(output[0])\n",
    "#[bad, good, neutral]\n",
    "\n",
    "if output[0][0] > output[0][1] and output[0][0] > output[0][2]:\n",
    "    print(\"Tweet is \" + \"Negative\")\n",
    "elif output[0][1] > output[0][0] and output[0][1] > output[0][2]:\n",
    "    print(\"Tweet is \" + \"Positive\")\n",
    "else:\n",
    "    print(\"Tweet is \" + \"Neutral\")"
   ]
  },
  {
   "cell_type": "code",
   "execution_count": null,
   "id": "db593b23",
   "metadata": {},
   "outputs": [],
   "source": []
  }
 ],
 "metadata": {
  "kernelspec": {
   "display_name": "Python 3 (ipykernel)",
   "language": "python",
   "name": "python3"
  },
  "language_info": {
   "codemirror_mode": {
    "name": "ipython",
    "version": 3
   },
   "file_extension": ".py",
   "mimetype": "text/x-python",
   "name": "python",
   "nbconvert_exporter": "python",
   "pygments_lexer": "ipython3",
   "version": "3.10.6"
  }
 },
 "nbformat": 4,
 "nbformat_minor": 5
}
